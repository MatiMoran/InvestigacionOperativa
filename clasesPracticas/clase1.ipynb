{
  "nbformat": 4,
  "nbformat_minor": 0,
  "metadata": {
    "colab": {
      "provenance": []
    },
    "kernelspec": {
      "name": "python3",
      "display_name": "Python 3"
    },
    "language_info": {
      "name": "python"
    }
  },
  "cells": [
    {
      "cell_type": "markdown",
      "source": [
        "# Clase 1 - Introducción a SCIP\n",
        "## Investigación Operativa 2C 2025 - Departamento de Matemática - FCEN-UBA"
      ],
      "metadata": {
        "id": "UjnZTawMQQe1"
      }
    },
    {
      "cell_type": "markdown",
      "source": [
        "### Inicialización"
      ],
      "metadata": {
        "id": "WqSkzOfwQlqP"
      }
    },
    {
      "cell_type": "code",
      "execution_count": null,
      "metadata": {
        "id": "9tEVototPcTG",
        "colab": {
          "base_uri": "https://localhost:8080/"
        },
        "outputId": "d156070f-4254-4fd1-9383-71ace52f4678"
      },
      "outputs": [
        {
          "output_type": "stream",
          "name": "stdout",
          "text": [
            "⏬ Downloading https://github.com/conda-forge/miniforge/releases/download/25.3.1-0/Miniforge3-Linux-x86_64.sh...\n",
            "📦 Installing...\n",
            "📌 Adjusting configuration...\n",
            "🩹 Patching environment...\n",
            "⏲ Done in 0:00:14\n",
            "🔁 Restarting kernel...\n"
          ]
        }
      ],
      "source": [
        "!pip install -q condacolab\n",
        "import condacolab\n",
        "condacolab.install_from_url(\"https://github.com/conda-forge/miniforge/releases/download/25.3.1-0/Miniforge3-Linux-x86_64.sh\")"
      ]
    },
    {
      "cell_type": "code",
      "source": [
        "!conda install -q pyscipopt"
      ],
      "metadata": {
        "id": "8R9itkxKPl15",
        "colab": {
          "base_uri": "https://localhost:8080/"
        },
        "outputId": "9b9eae4b-4134-4ea0-f5dc-ad3f3e98ce15"
      },
      "execution_count": null,
      "outputs": [
        {
          "output_type": "stream",
          "name": "stdout",
          "text": [
            "Channels:\n",
            " - conda-forge\n",
            "Platform: linux-64\n",
            "Collecting package metadata (repodata.json): ...working... done\n",
            "Solving environment: ...working... done\n",
            "\n",
            "## Package Plan ##\n",
            "\n",
            "  environment location: /usr/local\n",
            "\n",
            "  added / updated specs:\n",
            "    - pyscipopt\n",
            "\n",
            "\n",
            "The following packages will be downloaded:\n",
            "\n",
            "    package                    |            build\n",
            "    ---------------------------|-----------------\n",
            "    ampl-asl-1.0.0             |       h5888daf_2         504 KB  conda-forge\n",
            "    ca-certificates-2025.8.3   |       hbd8a1cb_0         151 KB  conda-forge\n",
            "    certifi-2025.8.3           |     pyhd8ed1ab_0         155 KB  conda-forge\n",
            "    conda-25.7.0               |  py312h7900ff3_0         1.2 MB  conda-forge\n",
            "    cppad-20250000.2           |       h5888daf_0         487 KB  conda-forge\n",
            "    gmp-6.3.0                  |       hac33072_2         449 KB  conda-forge\n",
            "    ipopt-3.14.19              |       h0804adb_0        1000 KB  conda-forge\n",
            "    libblas-3.9.0              |34_h59b9bed_openblas          19 KB  conda-forge\n",
            "    libcblas-3.9.0             |34_he106b2a_openblas          19 KB  conda-forge\n",
            "    libgfortran-15.1.0         |       h69a702a_4          29 KB  conda-forge\n",
            "    libgfortran-ng-15.1.0      |       h69a702a_4          29 KB  conda-forge\n",
            "    libgfortran5-15.1.0        |       hcea5267_4         1.5 MB  conda-forge\n",
            "    libhwloc-2.11.2            |default_h3d81e11_1002         2.3 MB  conda-forge\n",
            "    liblapack-3.9.0            |34_h7ac8fdf_openblas          19 KB  conda-forge\n",
            "    liblzma-devel-5.8.1        |       hb9d3cd8_2         430 KB  conda-forge\n",
            "    libopenblas-0.3.30         |pthreads_h94d23a6_2         5.7 MB  conda-forge\n",
            "    libscotch-7.0.4            |       h2fe6a88_5         333 KB  conda-forge\n",
            "    libspral-2025.05.20        |       h39c1cf3_0         349 KB  conda-forge\n",
            "    metis-5.1.0                |    hd0bcaf9_1007         3.7 MB  conda-forge\n",
            "    mpfr-4.2.1                 |       h90cbb55_3         620 KB  conda-forge\n",
            "    mumps-include-5.7.3        |      h82cca05_10          20 KB  conda-forge\n",
            "    mumps-seq-5.7.3            |       h27a6a8b_0         1.9 MB  conda-forge\n",
            "    numpy-2.3.2                |  py312hf476fde_1         8.0 MB  conda-forge\n",
            "    openssl-3.5.2              |       h26f9b46_0         3.0 MB  conda-forge\n",
            "    pyscipopt-5.5.0            |  py312h2ec8cdc_0         862 KB  conda-forge\n",
            "    scip-9.2.3                 |       h61578e6_2        10.9 MB  conda-forge\n",
            "    tbb-2022.1.0               |       h4ce085d_0         175 KB  conda-forge\n",
            "    xz-5.8.1                   |       hbcc6ac9_2          23 KB  conda-forge\n",
            "    xz-gpl-tools-5.8.1         |       hbcc6ac9_2          33 KB  conda-forge\n",
            "    xz-tools-5.8.1             |       hb9d3cd8_2          94 KB  conda-forge\n",
            "    zlib-1.3.1                 |       hb9d3cd8_2          90 KB  conda-forge\n",
            "    ------------------------------------------------------------\n",
            "                                           Total:        44.0 MB\n",
            "\n",
            "The following NEW packages will be INSTALLED:\n",
            "\n",
            "  ampl-asl           conda-forge/linux-64::ampl-asl-1.0.0-h5888daf_2 \n",
            "  cppad              conda-forge/linux-64::cppad-20250000.2-h5888daf_0 \n",
            "  gmp                conda-forge/linux-64::gmp-6.3.0-hac33072_2 \n",
            "  ipopt              conda-forge/linux-64::ipopt-3.14.19-h0804adb_0 \n",
            "  libblas            conda-forge/linux-64::libblas-3.9.0-34_h59b9bed_openblas \n",
            "  libcblas           conda-forge/linux-64::libcblas-3.9.0-34_he106b2a_openblas \n",
            "  libgfortran        conda-forge/linux-64::libgfortran-15.1.0-h69a702a_4 \n",
            "  libgfortran-ng     conda-forge/linux-64::libgfortran-ng-15.1.0-h69a702a_4 \n",
            "  libgfortran5       conda-forge/linux-64::libgfortran5-15.1.0-hcea5267_4 \n",
            "  libhwloc           conda-forge/linux-64::libhwloc-2.11.2-default_h3d81e11_1002 \n",
            "  liblapack          conda-forge/linux-64::liblapack-3.9.0-34_h7ac8fdf_openblas \n",
            "  liblzma-devel      conda-forge/linux-64::liblzma-devel-5.8.1-hb9d3cd8_2 \n",
            "  libopenblas        conda-forge/linux-64::libopenblas-0.3.30-pthreads_h94d23a6_2 \n",
            "  libscotch          conda-forge/linux-64::libscotch-7.0.4-h2fe6a88_5 \n",
            "  libspral           conda-forge/linux-64::libspral-2025.05.20-h39c1cf3_0 \n",
            "  metis              conda-forge/linux-64::metis-5.1.0-hd0bcaf9_1007 \n",
            "  mpfr               conda-forge/linux-64::mpfr-4.2.1-h90cbb55_3 \n",
            "  mumps-include      conda-forge/linux-64::mumps-include-5.7.3-h82cca05_10 \n",
            "  mumps-seq          conda-forge/linux-64::mumps-seq-5.7.3-h27a6a8b_0 \n",
            "  numpy              conda-forge/linux-64::numpy-2.3.2-py312hf476fde_1 \n",
            "  pyscipopt          conda-forge/linux-64::pyscipopt-5.5.0-py312h2ec8cdc_0 \n",
            "  scip               conda-forge/linux-64::scip-9.2.3-h61578e6_2 \n",
            "  tbb                conda-forge/linux-64::tbb-2022.1.0-h4ce085d_0 \n",
            "  xz                 conda-forge/linux-64::xz-5.8.1-hbcc6ac9_2 \n",
            "  xz-gpl-tools       conda-forge/linux-64::xz-gpl-tools-5.8.1-hbcc6ac9_2 \n",
            "  xz-tools           conda-forge/linux-64::xz-tools-5.8.1-hb9d3cd8_2 \n",
            "  zlib               conda-forge/linux-64::zlib-1.3.1-hb9d3cd8_2 \n",
            "\n",
            "The following packages will be UPDATED:\n",
            "\n",
            "  ca-certificates                      2025.7.14-hbd8a1cb_0 --> 2025.8.3-hbd8a1cb_0 \n",
            "  certifi                            2025.7.14-pyhd8ed1ab_0 --> 2025.8.3-pyhd8ed1ab_0 \n",
            "  conda                              25.3.1-py312h7900ff3_1 --> 25.7.0-py312h7900ff3_0 \n",
            "  openssl                                  3.5.1-h7b32b05_0 --> 3.5.2-h26f9b46_0 \n",
            "\n",
            "\n",
            "Preparing transaction: ...working... done\n",
            "Verifying transaction: ...working... done\n",
            "Executing transaction: ...working... done\n"
          ]
        }
      ]
    },
    {
      "cell_type": "code",
      "source": [
        "# Importamos la clase Model de pyscipopt\n",
        "from pyscipopt import Model\n",
        "# Importamos numpy\n",
        "import numpy as np"
      ],
      "metadata": {
        "id": "VadNtUE6RIpD"
      },
      "execution_count": null,
      "outputs": []
    },
    {
      "cell_type": "markdown",
      "source": [
        "### Resolviendo nuestro primer modelo"
      ],
      "metadata": {
        "id": "lfp_hEQKRKSW"
      }
    },
    {
      "cell_type": "markdown",
      "source": [
        "Vamos a resolver el modelo del ejemplo de producción de pintura utilizando SCIP\n",
        "\n",
        "$$\n",
        "\\begin{array}{rrl}\n",
        "        \\max & 5x_1+4x_2 & \\\\\n",
        "        \\text{s.a.:} &  6x_1+4x_2 & \\leq 24 \\\\\n",
        "            & x_1 + 2x_2  & \\leq 6 \\\\\n",
        "            & x_1&  \\leq  2 \\\\\n",
        "            & x_2  & \\leq x_1+1\\\\\n",
        "            & x_1 & \\geq 0 \\\\\n",
        "            & x_2 & \\geq 0 \\\\\n",
        "            & x_1, x_2 & \\in\\mathbb{R}\n",
        "    \\end{array}\n",
        "$$"
      ],
      "metadata": {
        "id": "6F3Q1UnERPii"
      }
    },
    {
      "cell_type": "markdown",
      "source": [
        "Comenzamos inicializando el modelo con un nombre"
      ],
      "metadata": {
        "id": "KpRJyzD5R5pK"
      }
    },
    {
      "cell_type": "code",
      "source": [
        "model = Model('Pintura')"
      ],
      "metadata": {
        "id": "-dcHnbImR8HO"
      },
      "execution_count": null,
      "outputs": []
    },
    {
      "cell_type": "markdown",
      "source": [
        "Agregamos las variables $x_1$ y $x_2$ con el método ``addVar``. El método ``addVar`` admite dos argumentos:\n",
        "- ``name`` : nombre de la variable\n",
        "- ``vtype`` : tipo de variable, que puede ser continua (``'C'``), entera (``'I'``) o binaria (``'B'``) [Por defecto, ``vtype='C'``]\n",
        "- ``ub`` : cota superior de la variable [Por defecto, ``ub=None``]\n",
        "- ``lb`` : cota inferior para la variable [Por defecto, ``lb=0``]"
      ],
      "metadata": {
        "id": "8cnnUSkpSEp4"
      }
    },
    {
      "cell_type": "code",
      "source": [
        "# Como nuestras dos variables son reales no negativas, solo hace falta especificar el nombre.\n",
        "# (La cota superior de x1 la podemos agregar despues como una restriccion)\n",
        "x1 = model.addVar(name='x1')\n",
        "x2 = model.addVar(name='x2')"
      ],
      "metadata": {
        "id": "EBV9eORSSJPz"
      },
      "execution_count": null,
      "outputs": []
    },
    {
      "cell_type": "markdown",
      "source": [
        "Ahora agregamos las restricciones. Para esto, utilizamos el método ``addCons`` que tiene a la restricción como argumento obligatorio y, opcionalmente, puede llevar un nombre.\n",
        "\n",
        "Comenzamos con:\n",
        "$$6x_1+4x_2 \\leq 24$$"
      ],
      "metadata": {
        "id": "B5-s2_YuUhJp"
      }
    },
    {
      "cell_type": "code",
      "source": [
        "model.addCons(6*x1 + 4*x2 <= 24, name='Cantidad de M1 disponible')"
      ],
      "metadata": {
        "id": "aZIpMu_KUgGi",
        "colab": {
          "base_uri": "https://localhost:8080/"
        },
        "outputId": "5fe6b9c9-bfcb-4258-ad5a-5b6304c04b1d"
      },
      "execution_count": null,
      "outputs": [
        {
          "output_type": "execute_result",
          "data": {
            "text/plain": [
              "Cantidad de M1 disponible"
            ]
          },
          "metadata": {},
          "execution_count": 5
        }
      ]
    },
    {
      "cell_type": "markdown",
      "source": [
        "Seguimos con:\n",
        "$$x_1 + 2x_2  \\leq 6$$"
      ],
      "metadata": {
        "id": "d3XJMQyJViGu"
      }
    },
    {
      "cell_type": "code",
      "source": [
        "model.addCons(x1 + 2*x2 <= 6, name='Cantidad de M2 disponible')"
      ],
      "metadata": {
        "id": "d3_HdX9tVfuo",
        "colab": {
          "base_uri": "https://localhost:8080/"
        },
        "outputId": "5347894f-0f8e-4ad4-dd1b-5aba7e4cb3c5"
      },
      "execution_count": null,
      "outputs": [
        {
          "output_type": "execute_result",
          "data": {
            "text/plain": [
              "Cantidad de M2 disponible"
            ]
          },
          "metadata": {},
          "execution_count": 6
        }
      ]
    },
    {
      "cell_type": "markdown",
      "source": [
        "Y, finalmente, agregamos las restricciones sobre la demanda:\n",
        "$$x_1 \\leq 2$$\n",
        "$$x_2 \\leq x_1 + 1$$"
      ],
      "metadata": {
        "id": "VKRuz5-WVxoq"
      }
    },
    {
      "cell_type": "code",
      "source": [
        "model.addCons(x1 <= 2, name='Demanda PI')\n",
        "model.addCons(x2 <= x1 + 1, name='Demanda PE')"
      ],
      "metadata": {
        "id": "eJSxTMtbVxJm",
        "colab": {
          "base_uri": "https://localhost:8080/"
        },
        "outputId": "95f12881-9cd1-4728-bc6a-afbab6ae8a83"
      },
      "execution_count": null,
      "outputs": [
        {
          "output_type": "execute_result",
          "data": {
            "text/plain": [
              "Demanda PE"
            ]
          },
          "metadata": {},
          "execution_count": 7
        }
      ]
    },
    {
      "cell_type": "markdown",
      "source": [
        "Finalmente, agregamos la función objetivo con el método ``setObjective``. Tiene un argumento obligatorio que es la expresi'on de la funci'on objetivo y el argumento ``sense`` que recibe ``minimize`` si queremos minimizar o ``maximize`` si queremos maximizar. Por defecto, ``sense=minimize``."
      ],
      "metadata": {
        "id": "1xqTx6pvWNa8"
      }
    },
    {
      "cell_type": "code",
      "source": [
        "model.setObjective(5*x1 + 4*x2, sense='maximize')"
      ],
      "metadata": {
        "id": "KxqAQJ9PWMfx"
      },
      "execution_count": null,
      "outputs": []
    },
    {
      "cell_type": "markdown",
      "source": [
        "Ahora le pedimos a SCIP que resuelva el modelo, utilizando el método ``optimize``"
      ],
      "metadata": {
        "id": "OltSWrRJW7b0"
      }
    },
    {
      "cell_type": "code",
      "source": [
        "model.redirectOutput()\n",
        "model.optimize()"
      ],
      "metadata": {
        "id": "Fpz85IUTW6-M",
        "colab": {
          "base_uri": "https://localhost:8080/"
        },
        "outputId": "b46cfe0d-0f32-4955-b94a-cdfdc8516f0a"
      },
      "execution_count": null,
      "outputs": [
        {
          "output_type": "stream",
          "name": "stdout",
          "text": [
            "feasible solution found by trivial heuristic after 0.0 seconds, objective value 0.000000e+00\n",
            "presolving:\n",
            "(round 1, fast)       0 del vars, 1 del conss, 0 add conss, 4 chg bounds, 0 chg sides, 0 chg coeffs, 0 upgd conss, 0 impls, 0 clqs\n",
            "(round 2, fast)       0 del vars, 2 del conss, 0 add conss, 4 chg bounds, 0 chg sides, 0 chg coeffs, 0 upgd conss, 0 impls, 0 clqs\n",
            "(round 3, fast)       0 del vars, 2 del conss, 0 add conss, 5 chg bounds, 0 chg sides, 0 chg coeffs, 0 upgd conss, 0 impls, 0 clqs\n",
            "   (0.0s) running MILP presolver\n",
            "   (0.0s) MILP presolver found nothing\n",
            "(round 4, exhaustive) 1 del vars, 2 del conss, 0 add conss, 5 chg bounds, 0 chg sides, 0 chg coeffs, 0 upgd conss, 0 impls, 0 clqs\n",
            "(round 5, fast)       1 del vars, 4 del conss, 0 add conss, 6 chg bounds, 0 chg sides, 0 chg coeffs, 0 upgd conss, 0 impls, 0 clqs\n",
            "presolving (6 rounds: 6 fast, 2 medium, 2 exhaustive):\n",
            " 2 deleted vars, 4 deleted constraints, 0 added constraints, 6 tightened bounds, 0 added holes, 0 changed sides, 0 changed coefficients\n",
            " 0 implications, 0 cliques\n",
            "transformed 1/2 original solutions to the transformed problem space\n",
            "Presolving Time: 0.00\n",
            "\n",
            "SCIP Status        : problem is solved [optimal solution found]\n",
            "Solving Time (sec) : 0.01\n",
            "Solving Nodes      : 0\n",
            "Primal Bound       : +1.80000000000000e+01 (2 solutions)\n",
            "Dual Bound         : +1.80000000000000e+01\n",
            "Gap                : 0.00 %\n"
          ]
        }
      ]
    },
    {
      "cell_type": "markdown",
      "source": [
        "Obtenemos la solución mediante el método ``getBestSol``, que devuelve un diccionario ``{variable: valor_en_solucion}``"
      ],
      "metadata": {
        "id": "rVxVtdgGYSya"
      }
    },
    {
      "cell_type": "code",
      "source": [
        "sol = model.getBestSol()"
      ],
      "metadata": {
        "id": "MPxaktJSYQEa"
      },
      "execution_count": null,
      "outputs": []
    },
    {
      "cell_type": "markdown",
      "source": [
        "Accedamos al valor de cada variable en la solución:"
      ],
      "metadata": {
        "id": "w6YH32kfYt6r"
      }
    },
    {
      "cell_type": "code",
      "source": [
        "for var in [x1, x2]:\n",
        "  print(f'Valor de {var.name}: ', sol[var])"
      ],
      "metadata": {
        "id": "mW8VUJ83Ytb_",
        "colab": {
          "base_uri": "https://localhost:8080/"
        },
        "outputId": "c4a88ea6-c207-4dff-91df-03704d92913a"
      },
      "execution_count": null,
      "outputs": [
        {
          "output_type": "stream",
          "name": "stdout",
          "text": [
            "Valor de x1:  2.0\n",
            "Valor de x2:  2.0\n"
          ]
        }
      ]
    },
    {
      "cell_type": "markdown",
      "source": [
        "Accedamos al valor óptimo de la función objetivo con ``getObjVal``"
      ],
      "metadata": {
        "id": "t-9x3MDuZGyA"
      }
    },
    {
      "cell_type": "code",
      "source": [
        "model.getObjVal()"
      ],
      "metadata": {
        "id": "OMeSUJ5uZGbs",
        "colab": {
          "base_uri": "https://localhost:8080/"
        },
        "outputId": "d9cb5a5f-c9fe-4012-c6c4-55bab730a0db"
      },
      "execution_count": null,
      "outputs": [
        {
          "output_type": "execute_result",
          "data": {
            "text/plain": [
              "18.0"
            ]
          },
          "metadata": {},
          "execution_count": 12
        }
      ]
    },
    {
      "cell_type": "markdown",
      "source": [
        "Todo este procedimiento lo podemos llevar a cabo en una celda:"
      ],
      "metadata": {
        "id": "zZYkCeaHay9x"
      }
    },
    {
      "cell_type": "code",
      "source": [
        "# Inicializar modelo\n",
        "model = Model('Pintura')\n",
        "\n",
        "# Variables\n",
        "x1 = model.addVar(name='x1')\n",
        "x2 = model.addVar(name='x2')\n",
        "\n",
        "# Restricciones\n",
        "model.addCons(6*x1 + 4*x2 <= 24, name='Cantidad de M1 disponible')\n",
        "model.addCons(x1 + 2*x2 <= 6, name='Cantidad de M2 disponible')\n",
        "model.addCons(x1 <= 2, name='Demanda PI')\n",
        "model.addCons(x2 <= x1 + 1, name='Demanda PE')\n",
        "\n",
        "# Funcion objetivo\n",
        "model.setObjective(5*x1 + 4*x2, sense='maximize')\n",
        "\n",
        "# Optimizar\n",
        "model.redirectOutput()\n",
        "model.optimize()\n",
        "\n",
        "sol = model.getBestSol()\n",
        "\n",
        "# Solucion optima y valor optimo de la f.o.\n",
        "for var in [x1, x2]:\n",
        "  print(f'Valor de {var.name}: ', sol[var])\n",
        "\n",
        "print(f'Valor optimo de la f.o.: {model.getObjVal()}')"
      ],
      "metadata": {
        "id": "tCWz3C0Ea6L_",
        "colab": {
          "base_uri": "https://localhost:8080/"
        },
        "outputId": "1923ce03-3423-4d7f-a1b8-e20f500432db"
      },
      "execution_count": null,
      "outputs": [
        {
          "output_type": "stream",
          "name": "stdout",
          "text": [
            "feasible solution found by trivial heuristic after 0.0 seconds, objective value 0.000000e+00\n",
            "presolving:\n",
            "(round 1, fast)       0 del vars, 1 del conss, 0 add conss, 4 chg bounds, 0 chg sides, 0 chg coeffs, 0 upgd conss, 0 impls, 0 clqs\n",
            "(round 2, fast)       0 del vars, 2 del conss, 0 add conss, 4 chg bounds, 0 chg sides, 0 chg coeffs, 0 upgd conss, 0 impls, 0 clqs\n",
            "(round 3, fast)       0 del vars, 2 del conss, 0 add conss, 5 chg bounds, 0 chg sides, 0 chg coeffs, 0 upgd conss, 0 impls, 0 clqs\n",
            "   (0.0s) running MILP presolver\n",
            "   (0.0s) MILP presolver found nothing\n",
            "(round 4, exhaustive) 1 del vars, 2 del conss, 0 add conss, 5 chg bounds, 0 chg sides, 0 chg coeffs, 0 upgd conss, 0 impls, 0 clqs\n",
            "(round 5, fast)       1 del vars, 4 del conss, 0 add conss, 6 chg bounds, 0 chg sides, 0 chg coeffs, 0 upgd conss, 0 impls, 0 clqs\n",
            "presolving (6 rounds: 6 fast, 2 medium, 2 exhaustive):\n",
            " 2 deleted vars, 4 deleted constraints, 0 added constraints, 6 tightened bounds, 0 added holes, 0 changed sides, 0 changed coefficients\n",
            " 0 implications, 0 cliques\n",
            "transformed 1/2 original solutions to the transformed problem space\n",
            "Presolving Time: 0.00\n",
            "\n",
            "SCIP Status        : problem is solved [optimal solution found]\n",
            "Solving Time (sec) : 0.00\n",
            "Solving Nodes      : 0\n",
            "Primal Bound       : +1.80000000000000e+01 (2 solutions)\n",
            "Dual Bound         : +1.80000000000000e+01\n",
            "Gap                : 0.00 %\n",
            "Valor de x1:  2.0\n",
            "Valor de x2:  2.0\n",
            "Valor optimo de la f.o.: 18.0\n"
          ]
        }
      ]
    },
    {
      "cell_type": "markdown",
      "source": [
        "Podemos guardar el modelo en un archivo con el método ``writeProblem`` al cual le indicamos el nombre del archivo y la extensión:"
      ],
      "metadata": {
        "id": "0SUJXtWDd2Fj"
      }
    },
    {
      "cell_type": "code",
      "source": [
        "model.writeProblem('pintura.cip')"
      ],
      "metadata": {
        "id": "8u5JgRxlbtpv",
        "colab": {
          "base_uri": "https://localhost:8080/"
        },
        "outputId": "29823a2d-0a3b-4c5e-abad-bfe655d9033c"
      },
      "execution_count": null,
      "outputs": [
        {
          "output_type": "stream",
          "name": "stdout",
          "text": [
            "wrote problem to file /content/pintura.cip\n"
          ]
        }
      ]
    },
    {
      "cell_type": "markdown",
      "source": [
        "Para leer un modelo desde un archivo, utilizamos ``readProblem`` que toma como argumento el nombre del archivo donde se encuentra el modelo:"
      ],
      "metadata": {
        "id": "Kw4gz03UffW3"
      }
    },
    {
      "cell_type": "code",
      "source": [
        "model_2 = Model()\n",
        "model_2.readProblem(filename='pintura.cip')\n",
        "model_2.optimize()\n",
        "sol_2 = model_2.getBestSol()\n",
        "sol_2"
      ],
      "metadata": {
        "id": "QXTIk0FcfruX"
      },
      "execution_count": null,
      "outputs": []
    },
    {
      "cell_type": "markdown",
      "source": [
        "Podemos guardar la solución con el método ``writeSol`` el cual toma como argumentos:\n",
        "- la solucion del modelo\n",
        "- ``filename`` : el nombre del archivo con el que queremos guardar la solucion [opcional]\n",
        "- ``write_zeros`` : un booleano para indicar si escribe el valor de las variables cuyo valor en la solución es 0 (por defecto, ``write_zeros=False``)"
      ],
      "metadata": {
        "id": "ckSm4vaDebiP"
      }
    },
    {
      "cell_type": "code",
      "source": [
        "model.writeSol(sol, filename='solucion_pintura.sol')"
      ],
      "metadata": {
        "id": "agikwPGuebMa"
      },
      "execution_count": null,
      "outputs": []
    },
    {
      "cell_type": "markdown",
      "source": [
        "### Optimizando ganancias de MicroApple"
      ],
      "metadata": {
        "id": "2-cYl962iXSW"
      }
    },
    {
      "cell_type": "markdown",
      "source": [
        "Vamos a resolver el modelo que busca la planificación óptima de adquisición de empresas para MicroApple:\n",
        "\n",
        "$$\\begin{array}{cll}\n",
        "\\max & \\displaystyle \\sum_{i=1}^N \\sum_{k=1}^{12} g_{ik}x_{ik} &\\\\\n",
        "\\text{s.a:} & \\displaystyle \\sum_{k=1}^{12} x_{ik}  \\leq 1 \\quad \\forall i\\in \\{1,\\dots, N\\} & \\\\\n",
        "& \\displaystyle \\sum_{i=1}^{N} p_{ik}x_{ik}  \\leq d_{k} \\quad \\forall k\\in \\{1,\\dots,12\\} & \\\\\n",
        "& \\displaystyle \\sum_{k=1}^{12} \\sum_{i\\in E_s} x_{ik} \\leq m_s \\quad \\forall s\\in \\{1,\\dots, S\\} & \\\\\n",
        " & \\displaystyle \\sum_{k=1}^{12} x_{5k} + x_{7k} + x_{11k} \\leq 1 \\quad & \\\\\n",
        "& x_{ik}\\in\\{0,1\\} \\quad \\forall i\\in\\{1,\\dots,N\\}\\, \\forall k\\in \\{1,\\dots,12\\} & \\\\\n",
        "\\end{array}$$\n",
        "\n",
        "**RECORDAR**: los índices en Python comienzan con 0. Así, por ejemplo, podemos considerar que el mes 0 corresponde a enero y el mes 11 a diciembre.\n",
        "\n",
        "Resolveremos una instancia con los siguientes parámetros:"
      ],
      "metadata": {
        "id": "l70tskbajQ6k"
      }
    },
    {
      "cell_type": "code",
      "source": [
        "# Cantidad de potenciales empresas a ser adquiridas\n",
        "N = 20\n",
        "\n",
        "# Cantidad de rubros\n",
        "S = 5\n",
        "\n",
        "# Que empresas pertenecen a cada rubro\n",
        "E = {0: [5, 18, 19],\n",
        "    1: [7, 12],\n",
        "    2: [2, 6, 10, 11, 16, 17],\n",
        "    3: [1, 4, 8, 9, 13],\n",
        "    4: [0, 3, 14, 15]}\n",
        "\n",
        "# Maxima cantidad de cada rubro que puede ser adquirida\n",
        "m = np.array([3, 1, 4, 4, 3])\n",
        "\n",
        "# Presupuesto para cada mes\n",
        "d = np.array([100, 120, 90, 50, 75, 60, 110, 85, 90, 105, 100, 50])\n",
        "\n",
        "# Precio de cada empresa a lo largo del año (cada fila le corresponde a una empresa)\n",
        "p = np.array([[79, 76, 76, 71, 69, 69, 59, 57, 53, 51, 47, 39],\n",
        "              [81, 68, 68, 63, 62, 59, 58, 53, 42, 41, 40, 33],\n",
        "              [84, 73, 70, 64, 50, 49, 48, 40, 40, 34, 34, 31],\n",
        "              [84, 74, 69, 68, 63, 57, 56, 49, 41, 39, 32, 32],\n",
        "              [84, 79, 79, 74, 74, 74, 72, 72, 59, 37, 37, 32],\n",
        "              [84, 80, 79, 72, 66, 66, 64, 56, 50, 45, 43, 41],\n",
        "              [84, 76, 52, 49, 47, 46, 40, 39, 37, 36, 34, 30],\n",
        "              [82, 80, 79, 78, 75, 71, 64, 60, 45, 43, 35, 31],\n",
        "              [84, 81, 81, 79, 73, 71, 61, 60, 60, 40, 31, 30],\n",
        "              [83, 79, 78, 76, 72, 66, 57, 54, 53, 49, 47, 45],\n",
        "              [83, 78, 76, 74, 73, 62, 57, 56, 42, 35, 32, 31],\n",
        "              [84, 83, 82, 82, 64, 63, 54, 44, 39, 39, 35, 31],\n",
        "              [81, 80, 72, 72, 70, 61, 55, 52, 42, 42, 38, 34],\n",
        "              [81, 81, 72, 62, 59, 59, 51, 51, 50, 47, 34, 30],\n",
        "              [84, 82, 79, 77, 76, 73, 67, 63, 60, 56, 50, 48],\n",
        "              [77, 77, 70, 69, 68, 67, 65, 62, 54, 41, 34, 30],\n",
        "              [80, 76, 74, 71, 71, 69, 65, 46, 44, 39, 36, 32],\n",
        "              [84, 83, 81, 76, 75, 68, 64, 63, 53, 48, 36, 30],\n",
        "              [74, 74, 69, 68, 62, 61, 58, 53, 44, 41, 36, 31],\n",
        "              [80, 77, 71, 69, 63, 60, 59, 53, 52, 51, 44, 40]])\n",
        "\n",
        "# Ganancia obtenida a fin de año por adquirir cada una de las empresas\n",
        "# (cada fila le corresponde a una empresa)\n",
        "g = np.array([[132, 130, 121, 112, 111,  96,  89,  88,  86,  80,  70,  61],\n",
        "              [132, 123, 122, 113, 113, 106, 106,  70,  66,  64,  61,  61],\n",
        "              [127, 115, 114, 107, 101,  79,  78,  78,  68,  68,  65,  64],\n",
        "              [133, 129, 103, 100,  82,  78,  74,  70,  69,  64,  63,  60],\n",
        "              [127, 122, 117, 112, 109, 108, 108, 105,  83,  77,  72,  71],\n",
        "              [131, 118, 105,  99,  97,  89,  81,  80,  76,  69,  66,  62],\n",
        "              [121, 120, 117, 115, 108, 102,  98,  93,  90,  84,  71,  60],\n",
        "              [129, 127, 127, 125, 122, 120,  98,  96,  95,  90,  73,  60],\n",
        "              [122, 121, 118, 114, 104,  98,  87,  65,  63,  63,  60,  60],\n",
        "              [127, 121, 111, 104, 103,  94,  91,  89,  88,  82,  77,  74],\n",
        "              [134, 131, 123, 111,  94,  92,  85,  81,  80,  67,  63,  60],\n",
        "              [131, 119, 115, 109, 101,  95,  92,  87,  78,  77,  66,  60],\n",
        "              [133, 132, 121, 115, 112, 105,  91,  89,  88,  81,  74,  69],\n",
        "              [124, 123, 115, 113, 112, 111, 100,  97,  80,  73,  66,  65],\n",
        "              [128, 126, 103, 102,  88,  81,  79,  75,  68,  64,  64,  62],\n",
        "              [132, 119, 112, 112, 109, 109,  98,  95,  81,  80,  66,  61],\n",
        "              [132,  95,  93,  88,  82,  80,  80,  78,  67,  66,  61,  61],\n",
        "              [134, 131, 118, 116, 110, 102, 101,  95,  91,  89,  78,  71],\n",
        "              [130, 128, 121, 120, 113, 103,  94,  87,  82,  81,  73,  73],\n",
        "              [124, 115, 112, 109,  94,  92,  86,  83,  79,  74,  71,  61]])"
      ],
      "metadata": {
        "id": "Yp3GiKT8fSDp"
      },
      "execution_count": null,
      "outputs": []
    },
    {
      "cell_type": "code",
      "source": [
        "model = Model('MicroApple')"
      ],
      "metadata": {
        "id": "BUSvjPb9qjuo"
      },
      "execution_count": null,
      "outputs": []
    },
    {
      "cell_type": "markdown",
      "source": [
        "Observar que en este modelo tenemos muchas variables ($N\\times 12$) así que definirlas a mano no es práctico. Utilizaremos una matriz de variables ``x`` de tamaño $N\\times 12$ tal que en ``x[i, k]`` se guarde la variable $x_{ik}$.\n"
      ],
      "metadata": {
        "id": "4pL2dHzJpiJy"
      }
    },
    {
      "cell_type": "code",
      "source": [
        "# Inicializamos la matriz vacía\n",
        "x = np.empty((N, 12), dtype='object')\n",
        "\n",
        "# La vamos completando con las variables\n",
        "for i in range(???):\n",
        "  for k in range(???):\n",
        "    x[i, k] = model.addVar(f'x_{i}_{k}', vtype=???)\n"
      ],
      "metadata": {
        "id": "OGAGmDbnpvSb"
      },
      "execution_count": null,
      "outputs": []
    },
    {
      "cell_type": "markdown",
      "source": [
        "También utilizamos loops para agregar las restricciones"
      ],
      "metadata": {
        "id": "WEsv6t0IrPZj"
      }
    },
    {
      "cell_type": "code",
      "source": [
        "# Comprar cada empresa a lo sumo una vez\n",
        "for i in range(???):\n",
        "  model.addCons(sum(x[i, k] for k in range(???)) <= 1)\n",
        "\n",
        "# Respetar el presupuesto mensual\n",
        "for k in range(???):\n",
        "  model.addCons(sum(p[i, k] * x[i, k] for i in range(???)) <= ???)\n",
        "\n",
        "# Reglamentacion antimonopolio\n",
        "for s in range(???):\n",
        "  model.addCons(sum(x[i, k] for ??? in ??? for ??? in ???) <= ???)\n",
        "\n",
        "# Comprar a lo sumo una de las empresas 5, 7, 11\n",
        "???"
      ],
      "metadata": {
        "id": "W7scGlsvrZlq"
      },
      "execution_count": null,
      "outputs": []
    },
    {
      "cell_type": "markdown",
      "source": [
        "Agregamos la funcion objetivo"
      ],
      "metadata": {
        "id": "_IXDryc0t9N8"
      }
    },
    {
      "cell_type": "code",
      "source": [
        "model.setObjective(???, sense=???)"
      ],
      "metadata": {
        "id": "cjMOMBCnuDXb"
      },
      "execution_count": null,
      "outputs": []
    },
    {
      "cell_type": "markdown",
      "source": [
        "Resolvemos el modelo y reportamos la solucion"
      ],
      "metadata": {
        "id": "33GAVaSfuT63"
      }
    },
    {
      "cell_type": "code",
      "source": [
        "model.redirectOutput()\n",
        "model.optimize()"
      ],
      "metadata": {
        "id": "rNlfFzWHuTXe"
      },
      "execution_count": null,
      "outputs": []
    },
    {
      "cell_type": "code",
      "source": [
        "sol = model.getBestSol()\n",
        "model.writeSol(sol, 'solucion_MicroApple.sol')"
      ],
      "metadata": {
        "id": "ck05oH0mubH7"
      },
      "execution_count": null,
      "outputs": []
    }
  ]
}