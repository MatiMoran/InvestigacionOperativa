{
  "cells": [
    {
      "cell_type": "markdown",
      "metadata": {
        "id": "Jis5D-aMJAFW"
      },
      "source": [
        "# Clase 3 - Disyunción\n",
        "## Investigación Operativa 2C 2025 - Departamento de Matemática - FCEN-UBA"
      ]
    },
    {
      "cell_type": "markdown",
      "metadata": {
        "id": "WqSkzOfwQlqP"
      },
      "source": [
        "### Inicialización"
      ]
    },
    {
      "cell_type": "code",
      "execution_count": null,
      "metadata": {
        "id": "9tEVototPcTG"
      },
      "outputs": [],
      "source": [
        "!pip install -q condacolab\n",
        "import condacolab\n",
        "condacolab.install_from_url(\"https://github.com/conda-forge/miniforge/releases/download/25.3.1-0/Miniforge3-Linux-x86_64.sh\")"
      ]
    },
    {
      "cell_type": "code",
      "execution_count": null,
      "metadata": {
        "id": "8R9itkxKPl15"
      },
      "outputs": [],
      "source": [
        "!conda install -q pyscipopt"
      ]
    },
    {
      "cell_type": "code",
      "execution_count": 1,
      "metadata": {
        "id": "VadNtUE6RIpD"
      },
      "outputs": [],
      "source": [
        "# Importamos la clase Model de pyscipopt\n",
        "from pyscipopt import Model\n",
        "# Importamos numpy\n",
        "import numpy as np"
      ]
    },
    {
      "cell_type": "markdown",
      "metadata": {
        "id": "w1iOofWoJLJK"
      },
      "source": [
        "### Asignación de operarios"
      ]
    },
    {
      "cell_type": "markdown",
      "metadata": {
        "id": "lz_mUh3OJPDG"
      },
      "source": [
        "1) Resolver el modelo para encontrar una asignación de trabajadores a tareas de la planta de producción de MicroApple, eligiendo un valor apropiado para $M$:\n",
        "\n",
        "$$\n",
        "\\begin{array}{lrlr}\n",
        "\\max & 0 &  & \\\\\n",
        "\\text{s.a.:} & \\displaystyle\\sum_{i=1}^{|T|} x_t =& N \\\\\n",
        "  & x_t \\leq& u_t & t\\in T\\\\\n",
        "  & x_t \\geq & \\ell_t & t\\in T\\\\\n",
        "  & x_t - x_{t+1} \\leq & m_t & t\\in\\Gamma \\\\\n",
        "  & x_{t+1} - x_t \\leq & m_t & t\\in\\Gamma \\\\\n",
        "  & x_1 \\geq & 0.25x_2 - M\\theta \\\\\n",
        "  & x_3+x_4+x_5 \\leq & E + M(1-\\theta)\\\\\n",
        "  & x_t\\in &\\mathbb{Z_{\\geq 0}} & t\\in T \\\\\n",
        "  & \\theta\\in&\\{0,1\\} \\\\\n",
        "\\end{array}\n",
        "$$\n",
        "\n",
        "2) Una vez obtenida una solución, ¿cómo podrías usar el modelo para hallar una asignación distinta?  \n",
        "**Sugerencia:** sea $s_t$ el valor de $x_t$ en la solución del punto 1), necesitamos que para <u>al menos</u> un $t$, valga que $x_t\\neq s_t$.\n",
        "Como $x_t,s_t\\in\\mathbb{Z}$, vale:\n",
        "$$x_t\\neq s_t\\iff |x_t-s_t|\\geq 1$$"
      ]
    },
    {
      "cell_type": "code",
      "execution_count": 2,
      "metadata": {
        "id": "i8GWYkT1LWvu"
      },
      "outputs": [],
      "source": [
        "# Cantidad de operarios\n",
        "N = 60\n",
        "\n",
        "# Cotas inferiores y superiores de operarios para cada trabajo\n",
        "l = np.array([2, 5, 2, 4, 1, 4, 5, 1, 4, 4, 1, 3, 5, 3, 3])\n",
        "u = np.array([8, 9, 8, 10, 9, 9, 8, 10, 8, 8, 7, 9, 10, 8, 8])\n",
        "\n",
        "# Conjunto Gamma\n",
        "Gamma = {3, 5, 7, 11}\n",
        "\n",
        "# Valores de m\n",
        "m = {3: 4, 5: 3, 7: 4, 11: 2}\n",
        "\n",
        "# Valor de E\n",
        "E = 8\n",
        "\n",
        "# Valor de M\n",
        "# x_2 <= 60 por ende x_2/4 <= 15, como necesito x_2/4 - M <= 0 resulta M >= 15\n",
        "# x-3 + x_4 + x_5 <= 60 por ende con 60 <= E + M me alcanza, como E=8 entonces 52 <= M me sirve\n",
        "# asi tomo M = MAX(15, 52) = 52\n",
        "M = 52"
      ]
    },
    {
      "cell_type": "code",
      "execution_count": 3,
      "metadata": {
        "id": "S2JDVcmrI6Ql"
      },
      "outputs": [
        {
          "name": "stdout",
          "output_type": "stream",
          "text": [
            "presolving:\n",
            "(round 1, fast)       1 del vars, 31 del conss, 0 add conss, 30 chg bounds, 2 chg sides, 3 chg coeffs, 0 upgd conss, 0 impls, 0 clqs\n",
            "(round 2, fast)       8 del vars, 33 del conss, 0 add conss, 30 chg bounds, 3 chg sides, 4 chg coeffs, 0 upgd conss, 0 impls, 0 clqs\n",
            "(round 3, fast)       10 del vars, 34 del conss, 0 add conss, 30 chg bounds, 3 chg sides, 4 chg coeffs, 0 upgd conss, 0 impls, 0 clqs\n",
            "(round 4, fast)       10 del vars, 34 del conss, 0 add conss, 42 chg bounds, 3 chg sides, 4 chg coeffs, 0 upgd conss, 0 impls, 0 clqs\n",
            "(round 5, fast)       16 del vars, 40 del conss, 0 add conss, 42 chg bounds, 3 chg sides, 4 chg coeffs, 0 upgd conss, 0 impls, 0 clqs\n",
            "presolving (6 rounds: 6 fast, 1 medium, 1 exhaustive):\n",
            " 17 deleted vars, 40 deleted constraints, 0 added constraints, 42 tightened bounds, 0 added holes, 3 changed sides, 4 changed coefficients\n",
            " 0 implications, 0 cliques\n",
            "transformed 1/1 original solutions to the transformed problem space\n",
            "Presolving Time: 0.00\n",
            "\n",
            "SCIP Status        : problem is solved [optimal solution found]\n",
            "Solving Time (sec) : 0.00\n",
            "Solving Nodes      : 0\n",
            "Primal Bound       : +0.00000000000000e+00 (1 solutions)\n",
            "Dual Bound         : +0.00000000000000e+00\n",
            "Gap                : 0.00 %\n"
          ]
        }
      ],
      "source": [
        "model = Model('operarios')\n",
        "\n",
        "################################################\n",
        "## Definir las variables y escribir el modelo ##\n",
        "################################################\n",
        "\n",
        "# Inicializamos un vector vacío para las variables y lo llenamos con las variables\n",
        "x = np.empty(len(l), dtype='object')\n",
        "for i in range(len(l)):\n",
        "  x[i] = model.addVar(f'x_{i}', vtype='I')\n",
        "\n",
        "o = model.addVar('disjunction_var', vtype='B')\n",
        "\n",
        "for i in range(len(l)):\n",
        "    model.addCons(x[i] <= u[i])\n",
        "    model.addCons(x[i] >= l[i])\n",
        "\n",
        "for i in Gamma:\n",
        "   model.addCons(x[i] - x[i+1] <= m[i])\n",
        "   model.addCons(x[i+1] - x[i] <= m[i])\n",
        "\n",
        "model.addCons(x[0] >= 1/4 * x[1] - M*o)\n",
        "model.addCons(x[2] + x[3] + x[4] <= E + M*(1-o))\n",
        "\n",
        "model.redirectOutput()\n",
        "model.optimize()\n",
        "sol = model.getBestSol()\n",
        "model.writeSol(sol, './InvestigacionOperativa/clasesPracticas/clase3-my.sol')"
      ]
    },
    {
      "cell_type": "markdown",
      "metadata": {
        "id": "P0RaAZdw1Nci"
      },
      "source": [
        "2. Para hallar una solución distinta a la que ya obtuvimos, podemos guardar la solución obtenida en un diccionario `s`, tal que `s[t]` tenga el valor de $x_t$ en la solucion obtenida con el punto 1:"
      ]
    },
    {
      "cell_type": "code",
      "execution_count": 20,
      "metadata": {
        "id": "IPs1mGHJyuBp"
      },
      "outputs": [],
      "source": [
        "s = [sol[x[t]] for t in range(len(l))]"
      ]
    },
    {
      "cell_type": "code",
      "execution_count": 31,
      "metadata": {
        "id": "7hXmqCs-P0CP"
      },
      "outputs": [
        {
          "name": "stdout",
          "output_type": "stream",
          "text": [
            "presolving:\n",
            "(round 1, fast)       16 del vars, 46 del conss, 0 add conss, 39 chg bounds, 23 chg sides, 24 chg coeffs, 0 upgd conss, 4 impls, 0 clqs\n",
            "(round 2, fast)       20 del vars, 48 del conss, 0 add conss, 39 chg bounds, 24 chg sides, 25 chg coeffs, 0 upgd conss, 4 impls, 0 clqs\n",
            "(round 3, fast)       38 del vars, 63 del conss, 0 add conss, 39 chg bounds, 24 chg sides, 25 chg coeffs, 0 upgd conss, 4 impls, 0 clqs\n",
            "(round 4, fast)       39 del vars, 65 del conss, 0 add conss, 39 chg bounds, 24 chg sides, 25 chg coeffs, 0 upgd conss, 4 impls, 0 clqs\n",
            "(round 5, fast)       40 del vars, 65 del conss, 0 add conss, 51 chg bounds, 24 chg sides, 25 chg coeffs, 0 upgd conss, 4 impls, 0 clqs\n",
            "(round 6, fast)       46 del vars, 71 del conss, 0 add conss, 51 chg bounds, 24 chg sides, 25 chg coeffs, 0 upgd conss, 4 impls, 0 clqs\n",
            "presolving (7 rounds: 7 fast, 1 medium, 1 exhaustive):\n",
            " 47 deleted vars, 71 deleted constraints, 0 added constraints, 51 tightened bounds, 0 added holes, 24 changed sides, 25 changed coefficients\n",
            " 4 implications, 0 cliques\n",
            "transformed 1/1 original solutions to the transformed problem space\n",
            "Presolving Time: 0.00\n",
            "\n",
            "SCIP Status        : problem is solved [optimal solution found]\n",
            "Solving Time (sec) : 0.00\n",
            "Solving Nodes      : 0\n",
            "Primal Bound       : +0.00000000000000e+00 (1 solutions)\n",
            "Dual Bound         : +0.00000000000000e+00\n",
            "Gap                : 0.00 %\n"
          ]
        }
      ],
      "source": [
        "model2 = Model('operarios_2')\n",
        "\n",
        "#######################################################\n",
        "## Volvemos a escribir el modelo, agregando las      ##\n",
        "## variables y restricciones necesarias para obtener ##\n",
        "## una asignacion distinta a s                       ##\n",
        "#######################################################\n",
        "\n",
        "x = np.empty(len(l), dtype='object')\n",
        "for i in range(len(l)):\n",
        "  x[i] = model2.addVar(f'x_{i}', vtype='I')\n",
        "\n",
        "o = model2.addVar('disjunction_var', vtype='B')\n",
        "\n",
        "for i in range(len(l)):\n",
        "    model2.addCons(x[i] <= u[i])\n",
        "    model2.addCons(x[i] >= l[i])\n",
        "\n",
        "for i in Gamma:\n",
        "   model2.addCons(x[i] - x[i+1] <= m[i])\n",
        "   model2.addCons(x[i+1] - x[i] <= m[i])\n",
        "\n",
        "model2.addCons(x[0] >= 1/4 * x[1] - M*o)\n",
        "model2.addCons(x[2] + x[3] + x[4] <= E + M*(1-o))\n",
        "\n",
        "#######################################################\n",
        "## Volvemos a escribir el modelo, agregando las      ##\n",
        "## variables y restricciones necesarias para obtener ##\n",
        "## una asignacion distinta a s                       ##\n",
        "#######################################################\n",
        "\n",
        "# constante de disyuncion entre diferencias de la solucion nueva y la anterior\n",
        "# el abs(x,s) no puede ser mas grande que 60 entonces x - s <= -1 + K resulta 60 <= -1 +  K resulta 61 <= K\n",
        "# por el mismo motivo -60 >= 1 - K resulta K >= 61\n",
        "K = 90\n",
        "\n",
        "d = np.empty(2*len(l), dtype='object')\n",
        "for i in range(len(l)):\n",
        "   d[2*i] = model2.addVar(f'o_{2*i}', vtype='B')\n",
        "   model2.addCons(x[i] - s[i] <= -1 + K*(1-d[2*i]))\n",
        "   \n",
        "   d[2*i + 1] = model2.addVar(f'o_{2*i + 1}', vtype='B')\n",
        "   model2.addCons(x[i] - s[i] >= 1 - K*(1-d[2*i + 1]))\n",
        "model2.addCons(sum(d[i] for i in range(len(d))) >= 1)\n",
        "\n",
        "model2.redirectOutput()\n",
        "model2.optimize()\n",
        "sol = model2.getBestSol()\n",
        "model2.writeSol(sol, './InvestigacionOperativa/clasesPracticas/clase3-my2.sol')"
      ]
    },
    {
      "cell_type": "code",
      "execution_count": null,
      "metadata": {},
      "outputs": [],
      "source": []
    }
  ],
  "metadata": {
    "colab": {
      "provenance": []
    },
    "kernelspec": {
      "display_name": "investigacionoperativa-py3.12",
      "language": "python",
      "name": "python3"
    },
    "language_info": {
      "codemirror_mode": {
        "name": "ipython",
        "version": 3
      },
      "file_extension": ".py",
      "mimetype": "text/x-python",
      "name": "python",
      "nbconvert_exporter": "python",
      "pygments_lexer": "ipython3",
      "version": "3.12.10"
    }
  },
  "nbformat": 4,
  "nbformat_minor": 0
}
