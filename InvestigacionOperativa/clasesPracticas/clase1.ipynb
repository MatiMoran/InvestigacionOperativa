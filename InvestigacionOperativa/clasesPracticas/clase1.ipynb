{
  "cells": [
    {
      "cell_type": "markdown",
      "metadata": {
        "id": "UjnZTawMQQe1"
      },
      "source": [
        "# Clase 1 - Introducción a SCIP\n",
        "## Investigación Operativa 2C 2025 - Departamento de Matemática - FCEN-UBA"
      ]
    },
    {
      "cell_type": "markdown",
      "metadata": {
        "id": "WqSkzOfwQlqP"
      },
      "source": [
        "### Inicialización"
      ]
    },
    {
      "cell_type": "code",
      "execution_count": null,
      "metadata": {
        "colab": {
          "base_uri": "https://localhost:8080/"
        },
        "id": "9tEVototPcTG",
        "outputId": "d156070f-4254-4fd1-9383-71ace52f4678"
      },
      "outputs": [
        {
          "name": "stdout",
          "output_type": "stream",
          "text": [
            "⏬ Downloading https://github.com/conda-forge/miniforge/releases/download/25.3.1-0/Miniforge3-Linux-x86_64.sh...\n",
            "📦 Installing...\n",
            "📌 Adjusting configuration...\n",
            "🩹 Patching environment...\n",
            "⏲ Done in 0:00:14\n",
            "🔁 Restarting kernel...\n"
          ]
        }
      ],
      "source": [
        "!pip install -q condacolab\n",
        "import condacolab\n",
        "condacolab.install_from_url(\"https://github.com/conda-forge/miniforge/releases/download/25.3.1-0/Miniforge3-Linux-x86_64.sh\")"
      ]
    },
    {
      "cell_type": "code",
      "execution_count": null,
      "metadata": {
        "colab": {
          "base_uri": "https://localhost:8080/"
        },
        "id": "8R9itkxKPl15",
        "outputId": "9b9eae4b-4134-4ea0-f5dc-ad3f3e98ce15"
      },
      "outputs": [
        {
          "name": "stdout",
          "output_type": "stream",
          "text": [
            "Channels:\n",
            " - conda-forge\n",
            "Platform: linux-64\n",
            "Collecting package metadata (repodata.json): ...working... done\n",
            "Solving environment: ...working... done\n",
            "\n",
            "## Package Plan ##\n",
            "\n",
            "  environment location: /usr/local\n",
            "\n",
            "  added / updated specs:\n",
            "    - pyscipopt\n",
            "\n",
            "\n",
            "The following packages will be downloaded:\n",
            "\n",
            "    package                    |            build\n",
            "    ---------------------------|-----------------\n",
            "    ampl-asl-1.0.0             |       h5888daf_2         504 KB  conda-forge\n",
            "    ca-certificates-2025.8.3   |       hbd8a1cb_0         151 KB  conda-forge\n",
            "    certifi-2025.8.3           |     pyhd8ed1ab_0         155 KB  conda-forge\n",
            "    conda-25.7.0               |  py312h7900ff3_0         1.2 MB  conda-forge\n",
            "    cppad-20250000.2           |       h5888daf_0         487 KB  conda-forge\n",
            "    gmp-6.3.0                  |       hac33072_2         449 KB  conda-forge\n",
            "    ipopt-3.14.19              |       h0804adb_0        1000 KB  conda-forge\n",
            "    libblas-3.9.0              |34_h59b9bed_openblas          19 KB  conda-forge\n",
            "    libcblas-3.9.0             |34_he106b2a_openblas          19 KB  conda-forge\n",
            "    libgfortran-15.1.0         |       h69a702a_4          29 KB  conda-forge\n",
            "    libgfortran-ng-15.1.0      |       h69a702a_4          29 KB  conda-forge\n",
            "    libgfortran5-15.1.0        |       hcea5267_4         1.5 MB  conda-forge\n",
            "    libhwloc-2.11.2            |default_h3d81e11_1002         2.3 MB  conda-forge\n",
            "    liblapack-3.9.0            |34_h7ac8fdf_openblas          19 KB  conda-forge\n",
            "    liblzma-devel-5.8.1        |       hb9d3cd8_2         430 KB  conda-forge\n",
            "    libopenblas-0.3.30         |pthreads_h94d23a6_2         5.7 MB  conda-forge\n",
            "    libscotch-7.0.4            |       h2fe6a88_5         333 KB  conda-forge\n",
            "    libspral-2025.05.20        |       h39c1cf3_0         349 KB  conda-forge\n",
            "    metis-5.1.0                |    hd0bcaf9_1007         3.7 MB  conda-forge\n",
            "    mpfr-4.2.1                 |       h90cbb55_3         620 KB  conda-forge\n",
            "    mumps-include-5.7.3        |      h82cca05_10          20 KB  conda-forge\n",
            "    mumps-seq-5.7.3            |       h27a6a8b_0         1.9 MB  conda-forge\n",
            "    numpy-2.3.2                |  py312hf476fde_1         8.0 MB  conda-forge\n",
            "    openssl-3.5.2              |       h26f9b46_0         3.0 MB  conda-forge\n",
            "    pyscipopt-5.5.0            |  py312h2ec8cdc_0         862 KB  conda-forge\n",
            "    scip-9.2.3                 |       h61578e6_2        10.9 MB  conda-forge\n",
            "    tbb-2022.1.0               |       h4ce085d_0         175 KB  conda-forge\n",
            "    xz-5.8.1                   |       hbcc6ac9_2          23 KB  conda-forge\n",
            "    xz-gpl-tools-5.8.1         |       hbcc6ac9_2          33 KB  conda-forge\n",
            "    xz-tools-5.8.1             |       hb9d3cd8_2          94 KB  conda-forge\n",
            "    zlib-1.3.1                 |       hb9d3cd8_2          90 KB  conda-forge\n",
            "    ------------------------------------------------------------\n",
            "                                           Total:        44.0 MB\n",
            "\n",
            "The following NEW packages will be INSTALLED:\n",
            "\n",
            "  ampl-asl           conda-forge/linux-64::ampl-asl-1.0.0-h5888daf_2 \n",
            "  cppad              conda-forge/linux-64::cppad-20250000.2-h5888daf_0 \n",
            "  gmp                conda-forge/linux-64::gmp-6.3.0-hac33072_2 \n",
            "  ipopt              conda-forge/linux-64::ipopt-3.14.19-h0804adb_0 \n",
            "  libblas            conda-forge/linux-64::libblas-3.9.0-34_h59b9bed_openblas \n",
            "  libcblas           conda-forge/linux-64::libcblas-3.9.0-34_he106b2a_openblas \n",
            "  libgfortran        conda-forge/linux-64::libgfortran-15.1.0-h69a702a_4 \n",
            "  libgfortran-ng     conda-forge/linux-64::libgfortran-ng-15.1.0-h69a702a_4 \n",
            "  libgfortran5       conda-forge/linux-64::libgfortran5-15.1.0-hcea5267_4 \n",
            "  libhwloc           conda-forge/linux-64::libhwloc-2.11.2-default_h3d81e11_1002 \n",
            "  liblapack          conda-forge/linux-64::liblapack-3.9.0-34_h7ac8fdf_openblas \n",
            "  liblzma-devel      conda-forge/linux-64::liblzma-devel-5.8.1-hb9d3cd8_2 \n",
            "  libopenblas        conda-forge/linux-64::libopenblas-0.3.30-pthreads_h94d23a6_2 \n",
            "  libscotch          conda-forge/linux-64::libscotch-7.0.4-h2fe6a88_5 \n",
            "  libspral           conda-forge/linux-64::libspral-2025.05.20-h39c1cf3_0 \n",
            "  metis              conda-forge/linux-64::metis-5.1.0-hd0bcaf9_1007 \n",
            "  mpfr               conda-forge/linux-64::mpfr-4.2.1-h90cbb55_3 \n",
            "  mumps-include      conda-forge/linux-64::mumps-include-5.7.3-h82cca05_10 \n",
            "  mumps-seq          conda-forge/linux-64::mumps-seq-5.7.3-h27a6a8b_0 \n",
            "  numpy              conda-forge/linux-64::numpy-2.3.2-py312hf476fde_1 \n",
            "  pyscipopt          conda-forge/linux-64::pyscipopt-5.5.0-py312h2ec8cdc_0 \n",
            "  scip               conda-forge/linux-64::scip-9.2.3-h61578e6_2 \n",
            "  tbb                conda-forge/linux-64::tbb-2022.1.0-h4ce085d_0 \n",
            "  xz                 conda-forge/linux-64::xz-5.8.1-hbcc6ac9_2 \n",
            "  xz-gpl-tools       conda-forge/linux-64::xz-gpl-tools-5.8.1-hbcc6ac9_2 \n",
            "  xz-tools           conda-forge/linux-64::xz-tools-5.8.1-hb9d3cd8_2 \n",
            "  zlib               conda-forge/linux-64::zlib-1.3.1-hb9d3cd8_2 \n",
            "\n",
            "The following packages will be UPDATED:\n",
            "\n",
            "  ca-certificates                      2025.7.14-hbd8a1cb_0 --> 2025.8.3-hbd8a1cb_0 \n",
            "  certifi                            2025.7.14-pyhd8ed1ab_0 --> 2025.8.3-pyhd8ed1ab_0 \n",
            "  conda                              25.3.1-py312h7900ff3_1 --> 25.7.0-py312h7900ff3_0 \n",
            "  openssl                                  3.5.1-h7b32b05_0 --> 3.5.2-h26f9b46_0 \n",
            "\n",
            "\n",
            "Preparing transaction: ...working... done\n",
            "Verifying transaction: ...working... done\n",
            "Executing transaction: ...working... done\n"
          ]
        }
      ],
      "source": [
        "!conda install -q pyscipopt"
      ]
    },
    {
      "cell_type": "code",
      "execution_count": 2,
      "metadata": {
        "id": "VadNtUE6RIpD"
      },
      "outputs": [],
      "source": [
        "# Importamos la clase Model de pyscipopt\n",
        "from pyscipopt import Model\n",
        "# Importamos numpy\n",
        "import numpy as np"
      ]
    },
    {
      "cell_type": "markdown",
      "metadata": {
        "id": "lfp_hEQKRKSW"
      },
      "source": [
        "### Resolviendo nuestro primer modelo"
      ]
    },
    {
      "cell_type": "markdown",
      "metadata": {
        "id": "6F3Q1UnERPii"
      },
      "source": [
        "Vamos a resolver el modelo del ejemplo de producción de pintura utilizando SCIP\n",
        "\n",
        "$$\n",
        "\\begin{array}{rrl}\n",
        "        \\max & 5x_1+4x_2 & \\\\\n",
        "        \\text{s.a.:} &  6x_1+4x_2 & \\leq 24 \\\\\n",
        "            & x_1 + 2x_2  & \\leq 6 \\\\\n",
        "            & x_1&  \\leq  2 \\\\\n",
        "            & x_2  & \\leq x_1+1\\\\\n",
        "            & x_1 & \\geq 0 \\\\\n",
        "            & x_2 & \\geq 0 \\\\\n",
        "            & x_1, x_2 & \\in\\mathbb{R}\n",
        "    \\end{array}\n",
        "$$"
      ]
    },
    {
      "cell_type": "markdown",
      "metadata": {
        "id": "KpRJyzD5R5pK"
      },
      "source": [
        "Comenzamos inicializando el modelo con un nombre"
      ]
    },
    {
      "cell_type": "code",
      "execution_count": 3,
      "metadata": {
        "id": "-dcHnbImR8HO"
      },
      "outputs": [],
      "source": [
        "model = Model('Pintura')"
      ]
    },
    {
      "cell_type": "markdown",
      "metadata": {
        "id": "8cnnUSkpSEp4"
      },
      "source": [
        "Agregamos las variables $x_1$ y $x_2$ con el método ``addVar``. El método ``addVar`` admite dos argumentos:\n",
        "- ``name`` : nombre de la variable\n",
        "- ``vtype`` : tipo de variable, que puede ser continua (``'C'``), entera (``'I'``) o binaria (``'B'``) [Por defecto, ``vtype='C'``]\n",
        "- ``ub`` : cota superior de la variable [Por defecto, ``ub=None``]\n",
        "- ``lb`` : cota inferior para la variable [Por defecto, ``lb=0``]"
      ]
    },
    {
      "cell_type": "code",
      "execution_count": 4,
      "metadata": {
        "id": "EBV9eORSSJPz"
      },
      "outputs": [],
      "source": [
        "# Como nuestras dos variables son reales no negativas, solo hace falta especificar el nombre.\n",
        "# (La cota superior de x1 la podemos agregar despues como una restriccion)\n",
        "x1 = model.addVar(name='x1')\n",
        "x2 = model.addVar(name='x2')"
      ]
    },
    {
      "cell_type": "markdown",
      "metadata": {
        "id": "B5-s2_YuUhJp"
      },
      "source": [
        "Ahora agregamos las restricciones. Para esto, utilizamos el método ``addCons`` que tiene a la restricción como argumento obligatorio y, opcionalmente, puede llevar un nombre.\n",
        "\n",
        "Comenzamos con:\n",
        "$$6x_1+4x_2 \\leq 24$$"
      ]
    },
    {
      "cell_type": "code",
      "execution_count": 5,
      "metadata": {
        "colab": {
          "base_uri": "https://localhost:8080/"
        },
        "id": "aZIpMu_KUgGi",
        "outputId": "5fe6b9c9-bfcb-4258-ad5a-5b6304c04b1d"
      },
      "outputs": [
        {
          "data": {
            "text/plain": [
              "Cantidad de M1 disponible"
            ]
          },
          "execution_count": 5,
          "metadata": {},
          "output_type": "execute_result"
        }
      ],
      "source": [
        "model.addCons(6*x1 + 4*x2 <= 24, name='Cantidad de M1 disponible')"
      ]
    },
    {
      "cell_type": "markdown",
      "metadata": {
        "id": "d3XJMQyJViGu"
      },
      "source": [
        "Seguimos con:\n",
        "$$x_1 + 2x_2  \\leq 6$$"
      ]
    },
    {
      "cell_type": "code",
      "execution_count": 6,
      "metadata": {
        "colab": {
          "base_uri": "https://localhost:8080/"
        },
        "id": "d3_HdX9tVfuo",
        "outputId": "5347894f-0f8e-4ad4-dd1b-5aba7e4cb3c5"
      },
      "outputs": [
        {
          "data": {
            "text/plain": [
              "Cantidad de M2 disponible"
            ]
          },
          "execution_count": 6,
          "metadata": {},
          "output_type": "execute_result"
        }
      ],
      "source": [
        "model.addCons(x1 + 2*x2 <= 6, name='Cantidad de M2 disponible')"
      ]
    },
    {
      "cell_type": "markdown",
      "metadata": {
        "id": "VKRuz5-WVxoq"
      },
      "source": [
        "Y, finalmente, agregamos las restricciones sobre la demanda:\n",
        "$$x_1 \\leq 2$$\n",
        "$$x_2 \\leq x_1 + 1$$"
      ]
    },
    {
      "cell_type": "code",
      "execution_count": 7,
      "metadata": {
        "colab": {
          "base_uri": "https://localhost:8080/"
        },
        "id": "eJSxTMtbVxJm",
        "outputId": "95f12881-9cd1-4728-bc6a-afbab6ae8a83"
      },
      "outputs": [
        {
          "data": {
            "text/plain": [
              "Demanda PE"
            ]
          },
          "execution_count": 7,
          "metadata": {},
          "output_type": "execute_result"
        }
      ],
      "source": [
        "model.addCons(x1 <= 2, name='Demanda PI')\n",
        "model.addCons(x2 <= x1 + 1, name='Demanda PE')"
      ]
    },
    {
      "cell_type": "markdown",
      "metadata": {
        "id": "1xqTx6pvWNa8"
      },
      "source": [
        "Finalmente, agregamos la función objetivo con el método ``setObjective``. Tiene un argumento obligatorio que es la expresi'on de la funci'on objetivo y el argumento ``sense`` que recibe ``minimize`` si queremos minimizar o ``maximize`` si queremos maximizar. Por defecto, ``sense=minimize``."
      ]
    },
    {
      "cell_type": "code",
      "execution_count": 8,
      "metadata": {
        "id": "KxqAQJ9PWMfx"
      },
      "outputs": [],
      "source": [
        "model.setObjective(5*x1 + 4*x2, sense='maximize')"
      ]
    },
    {
      "cell_type": "markdown",
      "metadata": {
        "id": "OltSWrRJW7b0"
      },
      "source": [
        "Ahora le pedimos a SCIP que resuelva el modelo, utilizando el método ``optimize``"
      ]
    },
    {
      "cell_type": "code",
      "execution_count": 9,
      "metadata": {
        "colab": {
          "base_uri": "https://localhost:8080/"
        },
        "id": "Fpz85IUTW6-M",
        "outputId": "b46cfe0d-0f32-4955-b94a-cdfdc8516f0a"
      },
      "outputs": [
        {
          "name": "stdout",
          "output_type": "stream",
          "text": [
            "feasible solution found by trivial heuristic after 0.0 seconds, objective value 0.000000e+00\n",
            "presolving:\n",
            "(round 1, fast)       0 del vars, 1 del conss, 0 add conss, 4 chg bounds, 0 chg sides, 0 chg coeffs, 0 upgd conss, 0 impls, 0 clqs\n",
            "(round 2, fast)       0 del vars, 2 del conss, 0 add conss, 4 chg bounds, 0 chg sides, 0 chg coeffs, 0 upgd conss, 0 impls, 0 clqs\n",
            "(round 3, fast)       0 del vars, 2 del conss, 0 add conss, 5 chg bounds, 0 chg sides, 0 chg coeffs, 0 upgd conss, 0 impls, 0 clqs\n",
            "(round 4, exhaustive) 1 del vars, 2 del conss, 0 add conss, 5 chg bounds, 0 chg sides, 0 chg coeffs, 0 upgd conss, 0 impls, 0 clqs\n",
            "(round 5, fast)       1 del vars, 4 del conss, 0 add conss, 6 chg bounds, 0 chg sides, 0 chg coeffs, 0 upgd conss, 0 impls, 0 clqs\n",
            "presolving (6 rounds: 6 fast, 2 medium, 2 exhaustive):\n",
            " 2 deleted vars, 4 deleted constraints, 0 added constraints, 6 tightened bounds, 0 added holes, 0 changed sides, 0 changed coefficients\n",
            " 0 implications, 0 cliques\n",
            "transformed 1/2 original solutions to the transformed problem space\n",
            "Presolving Time: 0.00\n",
            "\n",
            "SCIP Status        : problem is solved [optimal solution found]\n",
            "Solving Time (sec) : 0.00\n",
            "Solving Nodes      : 0\n",
            "Primal Bound       : +1.80000000000000e+01 (2 solutions)\n",
            "Dual Bound         : +1.80000000000000e+01\n",
            "Gap                : 0.00 %\n"
          ]
        }
      ],
      "source": [
        "model.redirectOutput()\n",
        "model.optimize()"
      ]
    },
    {
      "cell_type": "markdown",
      "metadata": {
        "id": "rVxVtdgGYSya"
      },
      "source": [
        "Obtenemos la solución mediante el método ``getBestSol``, que devuelve un diccionario ``{variable: valor_en_solucion}``"
      ]
    },
    {
      "cell_type": "code",
      "execution_count": 10,
      "metadata": {
        "id": "MPxaktJSYQEa"
      },
      "outputs": [],
      "source": [
        "sol = model.getBestSol()"
      ]
    },
    {
      "cell_type": "markdown",
      "metadata": {
        "id": "w6YH32kfYt6r"
      },
      "source": [
        "Accedamos al valor de cada variable en la solución:"
      ]
    },
    {
      "cell_type": "code",
      "execution_count": 11,
      "metadata": {
        "colab": {
          "base_uri": "https://localhost:8080/"
        },
        "id": "mW8VUJ83Ytb_",
        "outputId": "c4a88ea6-c207-4dff-91df-03704d92913a"
      },
      "outputs": [
        {
          "name": "stdout",
          "output_type": "stream",
          "text": [
            "Valor de x1:  2.0\n",
            "Valor de x2:  2.0\n"
          ]
        }
      ],
      "source": [
        "for var in [x1, x2]:\n",
        "  print(f'Valor de {var.name}: ', sol[var])"
      ]
    },
    {
      "cell_type": "markdown",
      "metadata": {
        "id": "t-9x3MDuZGyA"
      },
      "source": [
        "Accedamos al valor óptimo de la función objetivo con ``getObjVal``"
      ]
    },
    {
      "cell_type": "code",
      "execution_count": 12,
      "metadata": {
        "colab": {
          "base_uri": "https://localhost:8080/"
        },
        "id": "OMeSUJ5uZGbs",
        "outputId": "d9cb5a5f-c9fe-4012-c6c4-55bab730a0db"
      },
      "outputs": [
        {
          "data": {
            "text/plain": [
              "18.0"
            ]
          },
          "execution_count": 12,
          "metadata": {},
          "output_type": "execute_result"
        }
      ],
      "source": [
        "model.getObjVal()"
      ]
    },
    {
      "cell_type": "markdown",
      "metadata": {
        "id": "zZYkCeaHay9x"
      },
      "source": [
        "Todo este procedimiento lo podemos llevar a cabo en una celda:"
      ]
    },
    {
      "cell_type": "code",
      "execution_count": 13,
      "metadata": {
        "colab": {
          "base_uri": "https://localhost:8080/"
        },
        "id": "tCWz3C0Ea6L_",
        "outputId": "1923ce03-3423-4d7f-a1b8-e20f500432db"
      },
      "outputs": [
        {
          "name": "stdout",
          "output_type": "stream",
          "text": [
            "feasible solution found by trivial heuristic after 0.0 seconds, objective value 0.000000e+00\n",
            "presolving:\n",
            "(round 1, fast)       0 del vars, 1 del conss, 0 add conss, 4 chg bounds, 0 chg sides, 0 chg coeffs, 0 upgd conss, 0 impls, 0 clqs\n",
            "(round 2, fast)       0 del vars, 2 del conss, 0 add conss, 4 chg bounds, 0 chg sides, 0 chg coeffs, 0 upgd conss, 0 impls, 0 clqs\n",
            "(round 3, fast)       0 del vars, 2 del conss, 0 add conss, 5 chg bounds, 0 chg sides, 0 chg coeffs, 0 upgd conss, 0 impls, 0 clqs\n",
            "(round 4, exhaustive) 1 del vars, 2 del conss, 0 add conss, 5 chg bounds, 0 chg sides, 0 chg coeffs, 0 upgd conss, 0 impls, 0 clqs\n",
            "(round 5, fast)       1 del vars, 4 del conss, 0 add conss, 6 chg bounds, 0 chg sides, 0 chg coeffs, 0 upgd conss, 0 impls, 0 clqs\n",
            "presolving (6 rounds: 6 fast, 2 medium, 2 exhaustive):\n",
            " 2 deleted vars, 4 deleted constraints, 0 added constraints, 6 tightened bounds, 0 added holes, 0 changed sides, 0 changed coefficients\n",
            " 0 implications, 0 cliques\n",
            "transformed 1/2 original solutions to the transformed problem space\n",
            "Presolving Time: 0.00\n",
            "\n",
            "SCIP Status        : problem is solved [optimal solution found]\n",
            "Solving Time (sec) : 0.00\n",
            "Solving Nodes      : 0\n",
            "Primal Bound       : +1.80000000000000e+01 (2 solutions)\n",
            "Dual Bound         : +1.80000000000000e+01\n",
            "Gap                : 0.00 %\n",
            "Valor de x1:  2.0\n",
            "Valor de x2:  2.0\n",
            "Valor optimo de la f.o.: 18.0\n"
          ]
        }
      ],
      "source": [
        "# Inicializar modelo\n",
        "model = Model('Pintura')\n",
        "\n",
        "# Variables\n",
        "x1 = model.addVar(name='x1')\n",
        "x2 = model.addVar(name='x2')\n",
        "\n",
        "# Restricciones\n",
        "model.addCons(6*x1 + 4*x2 <= 24, name='Cantidad de M1 disponible')\n",
        "model.addCons(x1 + 2*x2 <= 6, name='Cantidad de M2 disponible')\n",
        "model.addCons(x1 <= 2, name='Demanda PI')\n",
        "model.addCons(x2 <= x1 + 1, name='Demanda PE')\n",
        "\n",
        "# Funcion objetivo\n",
        "model.setObjective(5*x1 + 4*x2, sense='maximize')\n",
        "\n",
        "# Optimizar\n",
        "model.redirectOutput()\n",
        "model.optimize()\n",
        "\n",
        "sol = model.getBestSol()\n",
        "\n",
        "# Solucion optima y valor optimo de la f.o.\n",
        "for var in [x1, x2]:\n",
        "  print(f'Valor de {var.name}: ', sol[var])\n",
        "\n",
        "print(f'Valor optimo de la f.o.: {model.getObjVal()}')"
      ]
    },
    {
      "cell_type": "markdown",
      "metadata": {
        "id": "0SUJXtWDd2Fj"
      },
      "source": [
        "Podemos guardar el modelo en un archivo con el método ``writeProblem`` al cual le indicamos el nombre del archivo y la extensión:"
      ]
    },
    {
      "cell_type": "code",
      "execution_count": 14,
      "metadata": {
        "colab": {
          "base_uri": "https://localhost:8080/"
        },
        "id": "8u5JgRxlbtpv",
        "outputId": "29823a2d-0a3b-4c5e-abad-bfe655d9033c"
      },
      "outputs": [
        {
          "name": "stdout",
          "output_type": "stream",
          "text": [
            "wrote problem to file /home/matias/Database/files/Repos/UBA/InvestigacionOperativa/pintura.cip\n"
          ]
        }
      ],
      "source": [
        "model.writeProblem('pintura.cip')"
      ]
    },
    {
      "cell_type": "markdown",
      "metadata": {
        "id": "Kw4gz03UffW3"
      },
      "source": [
        "Para leer un modelo desde un archivo, utilizamos ``readProblem`` que toma como argumento el nombre del archivo donde se encuentra el modelo:"
      ]
    },
    {
      "cell_type": "code",
      "execution_count": 15,
      "metadata": {
        "id": "QXTIk0FcfruX"
      },
      "outputs": [
        {
          "name": "stdout",
          "output_type": "stream",
          "text": [
            "original problem has 2 variables (0 bin, 0 int, 0 impl, 2 cont) and 4 constraints\n",
            "feasible solution found by trivial heuristic after 0.0 seconds, objective value 0.000000e+00\n",
            "presolving:\n",
            "(round 1, fast)       0 del vars, 1 del conss, 0 add conss, 4 chg bounds, 0 chg sides, 0 chg coeffs, 0 upgd conss, 0 impls, 0 clqs\n",
            "(round 2, fast)       0 del vars, 2 del conss, 0 add conss, 4 chg bounds, 0 chg sides, 0 chg coeffs, 0 upgd conss, 0 impls, 0 clqs\n",
            "(round 3, fast)       0 del vars, 2 del conss, 0 add conss, 5 chg bounds, 0 chg sides, 0 chg coeffs, 0 upgd conss, 0 impls, 0 clqs\n",
            "(round 4, exhaustive) 1 del vars, 2 del conss, 0 add conss, 5 chg bounds, 0 chg sides, 0 chg coeffs, 0 upgd conss, 0 impls, 0 clqs\n",
            "(round 5, fast)       1 del vars, 4 del conss, 0 add conss, 6 chg bounds, 0 chg sides, 0 chg coeffs, 0 upgd conss, 0 impls, 0 clqs\n",
            "presolving (6 rounds: 6 fast, 2 medium, 2 exhaustive):\n",
            " 2 deleted vars, 4 deleted constraints, 0 added constraints, 6 tightened bounds, 0 added holes, 0 changed sides, 0 changed coefficients\n",
            " 0 implications, 0 cliques\n",
            "transformed 1/2 original solutions to the transformed problem space\n",
            "Presolving Time: 0.00\n",
            "\n",
            "SCIP Status        : problem is solved [optimal solution found]\n",
            "Solving Time (sec) : 0.00\n",
            "Solving Nodes      : 0\n",
            "Primal Bound       : +1.80000000000000e+01 (2 solutions)\n",
            "Dual Bound         : +1.80000000000000e+01\n",
            "Gap                : 0.00 %\n"
          ]
        },
        {
          "data": {
            "text/plain": [
              "{'x1': 2.0, 'x2': 2.0}"
            ]
          },
          "execution_count": 15,
          "metadata": {},
          "output_type": "execute_result"
        }
      ],
      "source": [
        "model_2 = Model()\n",
        "model_2.readProblem(filename='pintura.cip')\n",
        "model_2.optimize()\n",
        "sol_2 = model_2.getBestSol()\n",
        "sol_2"
      ]
    },
    {
      "cell_type": "markdown",
      "metadata": {
        "id": "ckSm4vaDebiP"
      },
      "source": [
        "Podemos guardar la solución con el método ``writeSol`` el cual toma como argumentos:\n",
        "- la solucion del modelo\n",
        "- ``filename`` : el nombre del archivo con el que queremos guardar la solucion [opcional]\n",
        "- ``write_zeros`` : un booleano para indicar si escribe el valor de las variables cuyo valor en la solución es 0 (por defecto, ``write_zeros=False``)"
      ]
    },
    {
      "cell_type": "code",
      "execution_count": 16,
      "metadata": {
        "id": "agikwPGuebMa"
      },
      "outputs": [],
      "source": [
        "model.writeSol(sol, filename='solucion_pintura.sol')"
      ]
    },
    {
      "cell_type": "markdown",
      "metadata": {
        "id": "2-cYl962iXSW"
      },
      "source": [
        "### Optimizando ganancias de MicroApple"
      ]
    },
    {
      "cell_type": "markdown",
      "metadata": {
        "id": "l70tskbajQ6k"
      },
      "source": [
        "Vamos a resolver el modelo que busca la planificación óptima de adquisición de empresas para MicroApple:\n",
        "\n",
        "$$\\begin{array}{cll}\n",
        "\\max & \\displaystyle \\sum_{i=1}^N \\sum_{k=1}^{12} g_{ik}x_{ik} &\\\\\n",
        "\\text{s.a:} & \\displaystyle \\sum_{k=1}^{12} x_{ik}  \\leq 1 \\quad \\forall i\\in \\{1,\\dots, N\\} & \\\\\n",
        "& \\displaystyle \\sum_{i=1}^{N} p_{ik}x_{ik}  \\leq d_{k} \\quad \\forall k\\in \\{1,\\dots,12\\} & \\\\\n",
        "& \\displaystyle \\sum_{k=1}^{12} \\sum_{i\\in E_s} x_{ik} \\leq m_s \\quad \\forall s\\in \\{1,\\dots, S\\} & \\\\\n",
        " & \\displaystyle \\sum_{k=1}^{12} x_{5k} + x_{7k} + x_{11k} \\leq 1 \\quad & \\\\\n",
        "& x_{ik}\\in\\{0,1\\} \\quad \\forall i\\in\\{1,\\dots,N\\}\\, \\forall k\\in \\{1,\\dots,12\\} & \\\\\n",
        "\\end{array}$$\n",
        "\n",
        "**RECORDAR**: los índices en Python comienzan con 0. Así, por ejemplo, podemos considerar que el mes 0 corresponde a enero y el mes 11 a diciembre.\n",
        "\n",
        "Resolveremos una instancia con los siguientes parámetros:"
      ]
    },
    {
      "cell_type": "code",
      "execution_count": 17,
      "metadata": {
        "id": "Yp3GiKT8fSDp"
      },
      "outputs": [],
      "source": [
        "# Cantidad de potenciales empresas a ser adquiridas\n",
        "N = 20\n",
        "\n",
        "# Cantidad de rubros\n",
        "S = 5\n",
        "\n",
        "# Que empresas pertenecen a cada rubro\n",
        "E = {0: [5, 18, 19],\n",
        "    1: [7, 12],\n",
        "    2: [2, 6, 10, 11, 16, 17],\n",
        "    3: [1, 4, 8, 9, 13],\n",
        "    4: [0, 3, 14, 15]}\n",
        "\n",
        "# Maxima cantidad de cada rubro que puede ser adquirida\n",
        "m = np.array([3, 1, 4, 4, 3])\n",
        "\n",
        "# Presupuesto para cada mes\n",
        "d = np.array([100, 120, 90, 50, 75, 60, 110, 85, 90, 105, 100, 50])\n",
        "\n",
        "# Precio de cada empresa a lo largo del año (cada fila le corresponde a una empresa)\n",
        "p = np.array([[79, 76, 76, 71, 69, 69, 59, 57, 53, 51, 47, 39],\n",
        "              [81, 68, 68, 63, 62, 59, 58, 53, 42, 41, 40, 33],\n",
        "              [84, 73, 70, 64, 50, 49, 48, 40, 40, 34, 34, 31],\n",
        "              [84, 74, 69, 68, 63, 57, 56, 49, 41, 39, 32, 32],\n",
        "              [84, 79, 79, 74, 74, 74, 72, 72, 59, 37, 37, 32],\n",
        "              [84, 80, 79, 72, 66, 66, 64, 56, 50, 45, 43, 41],\n",
        "              [84, 76, 52, 49, 47, 46, 40, 39, 37, 36, 34, 30],\n",
        "              [82, 80, 79, 78, 75, 71, 64, 60, 45, 43, 35, 31],\n",
        "              [84, 81, 81, 79, 73, 71, 61, 60, 60, 40, 31, 30],\n",
        "              [83, 79, 78, 76, 72, 66, 57, 54, 53, 49, 47, 45],\n",
        "              [83, 78, 76, 74, 73, 62, 57, 56, 42, 35, 32, 31],\n",
        "              [84, 83, 82, 82, 64, 63, 54, 44, 39, 39, 35, 31],\n",
        "              [81, 80, 72, 72, 70, 61, 55, 52, 42, 42, 38, 34],\n",
        "              [81, 81, 72, 62, 59, 59, 51, 51, 50, 47, 34, 30],\n",
        "              [84, 82, 79, 77, 76, 73, 67, 63, 60, 56, 50, 48],\n",
        "              [77, 77, 70, 69, 68, 67, 65, 62, 54, 41, 34, 30],\n",
        "              [80, 76, 74, 71, 71, 69, 65, 46, 44, 39, 36, 32],\n",
        "              [84, 83, 81, 76, 75, 68, 64, 63, 53, 48, 36, 30],\n",
        "              [74, 74, 69, 68, 62, 61, 58, 53, 44, 41, 36, 31],\n",
        "              [80, 77, 71, 69, 63, 60, 59, 53, 52, 51, 44, 40]])\n",
        "\n",
        "# Ganancia obtenida a fin de año por adquirir cada una de las empresas\n",
        "# (cada fila le corresponde a una empresa)\n",
        "g = np.array([[132, 130, 121, 112, 111,  96,  89,  88,  86,  80,  70,  61],\n",
        "              [132, 123, 122, 113, 113, 106, 106,  70,  66,  64,  61,  61],\n",
        "              [127, 115, 114, 107, 101,  79,  78,  78,  68,  68,  65,  64],\n",
        "              [133, 129, 103, 100,  82,  78,  74,  70,  69,  64,  63,  60],\n",
        "              [127, 122, 117, 112, 109, 108, 108, 105,  83,  77,  72,  71],\n",
        "              [131, 118, 105,  99,  97,  89,  81,  80,  76,  69,  66,  62],\n",
        "              [121, 120, 117, 115, 108, 102,  98,  93,  90,  84,  71,  60],\n",
        "              [129, 127, 127, 125, 122, 120,  98,  96,  95,  90,  73,  60],\n",
        "              [122, 121, 118, 114, 104,  98,  87,  65,  63,  63,  60,  60],\n",
        "              [127, 121, 111, 104, 103,  94,  91,  89,  88,  82,  77,  74],\n",
        "              [134, 131, 123, 111,  94,  92,  85,  81,  80,  67,  63,  60],\n",
        "              [131, 119, 115, 109, 101,  95,  92,  87,  78,  77,  66,  60],\n",
        "              [133, 132, 121, 115, 112, 105,  91,  89,  88,  81,  74,  69],\n",
        "              [124, 123, 115, 113, 112, 111, 100,  97,  80,  73,  66,  65],\n",
        "              [128, 126, 103, 102,  88,  81,  79,  75,  68,  64,  64,  62],\n",
        "              [132, 119, 112, 112, 109, 109,  98,  95,  81,  80,  66,  61],\n",
        "              [132,  95,  93,  88,  82,  80,  80,  78,  67,  66,  61,  61],\n",
        "              [134, 131, 118, 116, 110, 102, 101,  95,  91,  89,  78,  71],\n",
        "              [130, 128, 121, 120, 113, 103,  94,  87,  82,  81,  73,  73],\n",
        "              [124, 115, 112, 109,  94,  92,  86,  83,  79,  74,  71,  61]])"
      ]
    },
    {
      "cell_type": "code",
      "execution_count": 18,
      "metadata": {
        "id": "BUSvjPb9qjuo"
      },
      "outputs": [],
      "source": [
        "model = Model('MicroApple')"
      ]
    },
    {
      "cell_type": "markdown",
      "metadata": {
        "id": "4pL2dHzJpiJy"
      },
      "source": [
        "Observar que en este modelo tenemos muchas variables ($N\\times 12$) así que definirlas a mano no es práctico. Utilizaremos una matriz de variables ``x`` de tamaño $N\\times 12$ tal que en ``x[i, k]`` se guarde la variable $x_{ik}$.\n"
      ]
    },
    {
      "cell_type": "code",
      "execution_count": 19,
      "metadata": {
        "id": "OGAGmDbnpvSb"
      },
      "outputs": [],
      "source": [
        "# Inicializamos la matriz vacía\n",
        "x = np.empty((N, 12), dtype='object')\n",
        "\n",
        "# La vamos completando con las variables\n",
        "for i in range(N):\n",
        "  for k in range(12):\n",
        "    x[i, k] = model.addVar(f'x_{i}_{k}', vtype=\"B\")\n"
      ]
    },
    {
      "cell_type": "markdown",
      "metadata": {
        "id": "WEsv6t0IrPZj"
      },
      "source": [
        "También utilizamos loops para agregar las restricciones"
      ]
    },
    {
      "cell_type": "code",
      "execution_count": 20,
      "metadata": {
        "id": "W7scGlsvrZlq"
      },
      "outputs": [
        {
          "data": {
            "text/plain": [
              "c38"
            ]
          },
          "execution_count": 20,
          "metadata": {},
          "output_type": "execute_result"
        }
      ],
      "source": [
        "# Comprar cada empresa a lo sumo una vez\n",
        "for i in range(N):\n",
        "  model.addCons(sum(x[i, k] for k in range(12)) <= 1)\n",
        "\n",
        "# Respetar el presupuesto mensual\n",
        "for k in range(12):\n",
        "  model.addCons(sum(p[i, k] * x[i, k] for i in range(N)) <= d[k])\n",
        "\n",
        "# Reglamentacion antimonopolio\n",
        "for s in range(S):\n",
        "  model.addCons(sum(x[i, k] for i in range(N) for k in range(12) if i in E[s]) <= m[s])\n",
        "\n",
        "# Comprar a lo sumo una de las empresas 5, 7, 11\n",
        "model.addCons(sum(x[i, k] for i in [5, 7, 11] for k in range(12)) <= 1)"
      ]
    },
    {
      "cell_type": "markdown",
      "metadata": {
        "id": "_IXDryc0t9N8"
      },
      "source": [
        "Agregamos la funcion objetivo"
      ]
    },
    {
      "cell_type": "code",
      "execution_count": 21,
      "metadata": {
        "id": "cjMOMBCnuDXb"
      },
      "outputs": [],
      "source": [
        "model.setObjective(sum(x[i, k]*g[i,k] for i in range(N) for k in range(12)), sense=\"maximize\")"
      ]
    },
    {
      "cell_type": "markdown",
      "metadata": {
        "id": "33GAVaSfuT63"
      },
      "source": [
        "Resolvemos el modelo y reportamos la solucion"
      ]
    },
    {
      "cell_type": "code",
      "execution_count": 22,
      "metadata": {
        "id": "rNlfFzWHuTXe"
      },
      "outputs": [
        {
          "name": "stdout",
          "output_type": "stream",
          "text": [
            "feasible solution found by trivial heuristic after 0.0 seconds, objective value 0.000000e+00\n",
            "presolving:\n",
            "(round 1, fast)       34 del vars, 1 del conss, 0 add conss, 34 chg bounds, 0 chg sides, 0 chg coeffs, 0 upgd conss, 0 impls, 48 clqs\n",
            "(round 2, exhaustive) 34 del vars, 5 del conss, 0 add conss, 34 chg bounds, 4 chg sides, 0 chg coeffs, 0 upgd conss, 0 impls, 48 clqs\n",
            "(round 3, exhaustive) 34 del vars, 5 del conss, 0 add conss, 34 chg bounds, 4 chg sides, 0 chg coeffs, 33 upgd conss, 0 impls, 48 clqs\n",
            "(round 4, fast)       34 del vars, 11 del conss, 6 add conss, 34 chg bounds, 4 chg sides, 33 chg coeffs, 33 upgd conss, 0 impls, 48 clqs\n",
            "(round 5, medium)     34 del vars, 14 del conss, 10 add conss, 34 chg bounds, 8 chg sides, 82 chg coeffs, 33 upgd conss, 0 impls, 48 clqs\n",
            "(round 6, exhaustive) 34 del vars, 15 del conss, 10 add conss, 34 chg bounds, 8 chg sides, 82 chg coeffs, 33 upgd conss, 0 impls, 48 clqs\n",
            "(round 7, exhaustive) 46 del vars, 15 del conss, 10 add conss, 34 chg bounds, 8 chg sides, 82 chg coeffs, 33 upgd conss, 0 impls, 47 clqs\n",
            "(round 8, fast)       46 del vars, 15 del conss, 10 add conss, 34 chg bounds, 8 chg sides, 92 chg coeffs, 33 upgd conss, 0 impls, 47 clqs\n",
            "(round 9, medium)     46 del vars, 16 del conss, 11 add conss, 34 chg bounds, 9 chg sides, 110 chg coeffs, 33 upgd conss, 0 impls, 47 clqs\n",
            "(round 10, fast)       46 del vars, 17 del conss, 12 add conss, 34 chg bounds, 9 chg sides, 110 chg coeffs, 33 upgd conss, 0 impls, 47 clqs\n",
            "(round 11, exhaustive) 47 del vars, 17 del conss, 12 add conss, 34 chg bounds, 9 chg sides, 110 chg coeffs, 33 upgd conss, 0 impls, 47 clqs\n",
            "   (0.0s) probing: 51/193 (26.4%) - 0 fixings, 0 aggregations, 0 implications, 0 bound changes\n",
            "   (0.0s) probing aborted: 50/50 successive totally useless probings\n",
            "   (0.0s) symmetry computation started: requiring (bin +, int +, cont +), (fixed: bin -, int -, cont -)\n",
            "   (0.0s) no symmetry present (symcode time: 0.00)\n",
            "presolving (12 rounds: 12 fast, 8 medium, 6 exhaustive):\n",
            " 47 deleted vars, 17 deleted constraints, 12 added constraints, 34 tightened bounds, 0 added holes, 9 changed sides, 110 changed coefficients\n",
            " 0 implications, 47 cliques\n",
            "presolved problem has 193 variables (193 bin, 0 int, 0 impl, 0 cont) and 33 constraints\n",
            "      7 constraints of type <knapsack>\n",
            "     26 constraints of type <setppc>\n",
            "transformed objective value is always integral (scale: 1)\n",
            "Presolving Time: 0.01\n",
            "transformed 1/1 original solutions to the transformed problem space\n",
            "\n",
            " time | node  | left  |LP iter|LP it/n|mem/heur|mdpt |vars |cons |rows |cuts |sepa|confs|strbr|  dualbound   | primalbound  |  gap   | compl. \n",
            "p 0.0s|     1 |     0 |     0 |     - |  clique|   0 | 193 |  33 |  33 |   0 |  0 |   0 |   0 | 1.798700e+04 | 1.240000e+03 |1350.56%| unknown\n",
            "p 0.0s|     1 |     0 |     0 |     - | vbounds|   0 | 193 |  33 |  33 |   0 |  0 |   0 |   0 | 1.798700e+04 | 1.259000e+03 |1328.67%| unknown\n",
            "  0.0s|     1 |     0 |    59 |     - |  2924k |   0 | 193 |  33 |  33 |   0 |  0 |   0 |   0 | 1.505903e+03 | 1.259000e+03 |  19.61%| unknown\n",
            "r 0.0s|     1 |     0 |    59 |     - |simplero|   0 | 193 |  33 |  33 |   0 |  0 |   0 |   0 | 1.505903e+03 | 1.260000e+03 |  19.52%| unknown\n",
            "i 0.0s|     1 |     0 |    59 |     - |  oneopt|   0 | 193 |  33 |  33 |   0 |  0 |   0 |   0 | 1.505903e+03 | 1.481000e+03 |   1.68%| unknown\n",
            "  0.0s|     1 |     0 |    69 |     - |  3058k |   0 | 193 |  33 |  36 |   3 |  1 |   0 |   0 | 1.498488e+03 | 1.481000e+03 |   1.18%| unknown\n",
            "  0.0s|     1 |     0 |    69 |     - |  3061k |   0 | 193 |  33 |  36 |   3 |  1 |   0 |   0 | 1.498488e+03 | 1.481000e+03 |   1.18%| unknown\n",
            "  0.0s|     1 |     0 |    76 |     - |  3095k |   0 | 193 |  33 |  39 |   6 |  2 |   0 |   0 | 1.497499e+03 | 1.481000e+03 |   1.11%| unknown\n",
            "  0.0s|     1 |     0 |    76 |     - |  3095k |   0 | 193 |  33 |  39 |   6 |  2 |   0 |   0 | 1.497499e+03 | 1.481000e+03 |   1.11%| unknown\n",
            "  0.0s|     1 |     0 |    80 |     - |  3186k |   0 | 193 |  33 |  42 |   9 |  3 |   0 |   0 | 1.497263e+03 | 1.481000e+03 |   1.10%| unknown\n",
            "  0.0s|     1 |     0 |    92 |     - |  3390k |   0 | 193 |  33 |  45 |  12 |  4 |   0 |   0 | 1.496727e+03 | 1.481000e+03 |   1.06%| unknown\n",
            "r 0.0s|     1 |     0 |    92 |     - |randroun|   0 | 193 |  33 |  45 |   0 |  4 |   0 |   0 | 1.496727e+03 | 1.496000e+03 |   0.05%| unknown\n",
            "  0.0s|     1 |     0 |    92 |     - |  3393k |   0 | 193 |  33 |  45 |  12 |  4 |   0 |   0 | 1.496000e+03 | 1.496000e+03 |   0.00%| unknown\n",
            "  0.0s|     1 |     0 |    92 |     - |  3393k |   0 | 193 |  33 |  45 |  12 |  4 |   0 |   0 | 1.496000e+03 | 1.496000e+03 |   0.00%| unknown\n",
            "\n",
            "SCIP Status        : problem is solved [optimal solution found]\n",
            "Solving Time (sec) : 0.04\n",
            "Solving Nodes      : 1\n",
            "Primal Bound       : +1.49600000000000e+03 (12 solutions)\n",
            "Dual Bound         : +1.49600000000000e+03\n",
            "Gap                : 0.00 %\n"
          ]
        }
      ],
      "source": [
        "model.redirectOutput()\n",
        "model.optimize()"
      ]
    },
    {
      "cell_type": "code",
      "execution_count": 26,
      "metadata": {
        "id": "ck05oH0mubH7"
      },
      "outputs": [],
      "source": [
        "sol = model.getBestSol()\n",
        "model.writeSol(sol, 'InvestigacionOperativa/clasesPracticas/clase1.sol')"
      ]
    },
    {
      "cell_type": "code",
      "execution_count": null,
      "metadata": {},
      "outputs": [],
      "source": []
    }
  ],
  "metadata": {
    "colab": {
      "provenance": []
    },
    "kernelspec": {
      "display_name": "investigacionoperativa-py3.12",
      "language": "python",
      "name": "python3"
    },
    "language_info": {
      "codemirror_mode": {
        "name": "ipython",
        "version": 3
      },
      "file_extension": ".py",
      "mimetype": "text/x-python",
      "name": "python",
      "nbconvert_exporter": "python",
      "pygments_lexer": "ipython3",
      "version": "3.12.10"
    }
  },
  "nbformat": 4,
  "nbformat_minor": 0
}
