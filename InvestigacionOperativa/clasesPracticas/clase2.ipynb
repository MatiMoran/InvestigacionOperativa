{
  "cells": [
    {
      "cell_type": "markdown",
      "metadata": {
        "id": "Jis5D-aMJAFW"
      },
      "source": [
        "# Clase 2 - Problemas de costo fijo\n",
        "## Investigación Operativa 2C 2025 - Departamento de Matemática - FCEN-UBA"
      ]
    },
    {
      "cell_type": "markdown",
      "metadata": {
        "id": "WqSkzOfwQlqP"
      },
      "source": [
        "### Inicialización"
      ]
    },
    {
      "cell_type": "code",
      "execution_count": null,
      "metadata": {
        "id": "9tEVototPcTG"
      },
      "outputs": [],
      "source": [
        "!pip install -q condacolab\n",
        "import condacolab\n",
        "condacolab.install_from_url(\"https://github.com/conda-forge/miniforge/releases/download/25.3.1-0/Miniforge3-Linux-x86_64.sh\")"
      ]
    },
    {
      "cell_type": "code",
      "execution_count": null,
      "metadata": {
        "id": "8R9itkxKPl15"
      },
      "outputs": [],
      "source": [
        "!conda install -q pyscipopt"
      ]
    },
    {
      "cell_type": "code",
      "execution_count": 3,
      "metadata": {
        "id": "VadNtUE6RIpD"
      },
      "outputs": [],
      "source": [
        "# Importamos la clase Model de pyscipopt\n",
        "from pyscipopt import Model\n",
        "# Importamos numpy\n",
        "import numpy as np"
      ]
    },
    {
      "cell_type": "markdown",
      "metadata": {
        "id": "w1iOofWoJLJK"
      },
      "source": [
        "### Fábrica de muebles"
      ]
    },
    {
      "cell_type": "markdown",
      "metadata": {
        "id": "lz_mUh3OJPDG"
      },
      "source": [
        "Resolver el modelo para optimizar la producción en la fábrica de muebles,\n",
        "eligiendo un valor apropiado para la constante $M$:\n",
        "\n",
        "$$\n",
        "\\begin{array}{crl}\n",
        "\\max & 30x_1-165w_1 + 18x_2-100w_2+68x_3-300w_3 &  \\\\\n",
        "\\text{s.a.:} & 5x_1 + 3x_2 + 15x_3 \\leq& 100 \\\\\n",
        "  & 2x_1+2x_2+8x_3 \\leq & 60 \\\\\n",
        "  & 5x_1+x_2+20x_3 \\leq & 100 \\\\\n",
        "  & x_1+4x_2+12x_3 \\leq & 75 \\\\\n",
        "  & x_1 \\leq & 0.5\\displaystyle\\sum_{i=1}^3 x_i \\\\\n",
        "  & x_i \\leq & Mw_i \\quad \\forall i=1,2,3 \\\\\n",
        "  & x_i \\geq & 0 \\quad \\forall i=1,2,3 \\\\\n",
        "  & x_i\\in &\\mathbb{Z} \\quad \\forall i=1,2,3 \\\\\n",
        "  & w_i\\in&\\{0,1\\} \\quad \\forall i=1,2,3\\\\\n",
        "\\end{array}\n",
        "$$\n"
      ]
    },
    {
      "cell_type": "code",
      "execution_count": 4,
      "metadata": {
        "id": "i8GWYkT1LWvu"
      },
      "outputs": [],
      "source": [
        "# Vectores con disponibilidad de materiales (la primera coordenada corresponde a mesa, la segunda a silla y la tercera al ropero)\n",
        "horas_req = np.array([5, 3, 15])\n",
        "cedro_req = np.array([2, 2, 8])\n",
        "pino_req = np.array([5, 1, 20])\n",
        "nogal_req = np.array([1, 4, 12])\n",
        "\n",
        "# Cantidad disponible de cada material\n",
        "horas_disp = 100\n",
        "cedro_disp = 60\n",
        "pino_disp = 100\n",
        "nogal_disp = 75\n",
        "\n",
        "# Ganancia por mueble (la primera coordenada le corresponde a la mesa, etc.)\n",
        "g = [30, 18, 68]\n",
        "\n",
        "# Costo de compra de herramientas\n",
        "c = [165, 100, 300]"
      ]
    },
    {
      "cell_type": "code",
      "execution_count": 7,
      "metadata": {
        "id": "S2JDVcmrI6Ql"
      },
      "outputs": [
        {
          "name": "stdout",
          "output_type": "stream",
          "text": [
            "feasible solution found by trivial heuristic after 0.0 seconds, objective value 0.000000e+00\n",
            "presolving:\n",
            "(round 1, fast)       0 del vars, 0 del conss, 0 add conss, 6 chg bounds, 0 chg sides, 3 chg coeffs, 0 upgd conss, 0 impls, 0 clqs\n",
            "(round 2, exhaustive) 0 del vars, 0 del conss, 0 add conss, 6 chg bounds, 0 chg sides, 3 chg coeffs, 3 upgd conss, 0 impls, 0 clqs\n",
            "   (0.0s) probing cycle finished: starting next cycle\n",
            "   (0.0s) symmetry computation started: requiring (bin +, int +, cont +), (fixed: bin -, int -, cont -)\n",
            "   (0.0s) no symmetry present (symcode time: 0.00)\n",
            "presolving (3 rounds: 3 fast, 2 medium, 2 exhaustive):\n",
            " 0 deleted vars, 0 deleted constraints, 0 added constraints, 6 tightened bounds, 0 added holes, 0 changed sides, 3 changed coefficients\n",
            " 3 implications, 0 cliques\n",
            "presolved problem has 6 variables (3 bin, 3 int, 0 impl, 0 cont) and 8 constraints\n",
            "      3 constraints of type <varbound>\n",
            "      5 constraints of type <linear>\n",
            "transformed objective value is always integral (scale: 1)\n",
            "Presolving Time: 0.00\n",
            "transformed 2/2 original solutions to the transformed problem space\n",
            "\n",
            " time | node  | left  |LP iter|LP it/n|mem/heur|mdpt |vars |cons |rows |cuts |sepa|confs|strbr|  dualbound   | primalbound  |  gap   | compl. \n",
            "p 0.0s|     1 |     0 |     0 |     - | vbounds|   0 |   6 |   8 |   8 |   0 |  0 |   0 |   0 | 1.264000e+03 | 4.350000e+02 | 190.57%| unknown\n",
            "  0.0s|     1 |     0 |     6 |     - |   624k |   0 |   6 |   8 |   8 |   0 |  0 |   0 |   0 | 4.350000e+02 | 4.350000e+02 |   0.00%| unknown\n",
            "\n",
            "SCIP Status        : problem is solved [optimal solution found]\n",
            "Solving Time (sec) : 0.00\n",
            "Solving Nodes      : 1\n",
            "Primal Bound       : +4.35000000000000e+02 (3 solutions)\n",
            "Dual Bound         : +4.35000000000000e+02\n",
            "Gap                : 0.00 %\n"
          ]
        }
      ],
      "source": [
        "model = Model('muebles')\n",
        "\n",
        "furniture_range = range(len(g))\n",
        "\n",
        "# Inicializamos un vector vacío para las variables y lo llenamos con las variables\n",
        "x = np.empty(len(g), dtype='object')\n",
        "for i in furniture_range:\n",
        "  x[i] = model.addVar(f'x_{i}', vtype='I')\n",
        "\n",
        "w = np.empty(len(g), dtype='object')\n",
        "for i in furniture_range:\n",
        "  w[i] = model.addVar(f'w_{i}', vtype='B')\n",
        "\n",
        "# Restricciones de disponibilidad de materiales\n",
        "model.addCons(sum(x[i]*horas_req[i] for i in furniture_range) <= horas_disp)\n",
        "model.addCons(sum(x[i]*cedro_req[i] for i in furniture_range) <= cedro_disp)\n",
        "model.addCons(sum(x[i]*pino_req[i] for i in furniture_range) <= pino_disp)\n",
        "model.addCons(sum(x[i]*nogal_req[i] for i in furniture_range) <= nogal_disp)\n",
        "\n",
        "# Restriccion para las sillas\n",
        "model.addCons(x[1] <= 0.5*sum(x[i] for i in furniture_range))\n",
        "\n",
        "# Restricciones de costo fijo\n",
        "# maxima cantidad de muebles que se pueden hacer\n",
        "M = 100/3 + 1 # la cantidad maxima de muebles son 33 sillas porque solo tenemos 100 horas y cada silla cuesta 3\n",
        "for i in furniture_range:\n",
        "  model.addCons(x[i] <= M*w[i])\n",
        "\n",
        "# Funcion objetivo\n",
        "model.setObjective(sum(g[i]*x[i] - c[i]*w[i] for i in furniture_range), sense='maximize')\n",
        "\n",
        "model.redirectOutput()\n",
        "model.optimize()\n",
        "sol = model.getBestSol()\n",
        "model.writeSol(sol, './InvestigacionOperativa/clasesPracticas/clase2-my.sol')"
      ]
    },
    {
      "cell_type": "code",
      "execution_count": null,
      "metadata": {
        "id": "5yslpo0NNSVS"
      },
      "outputs": [],
      "source": []
    }
  ],
  "metadata": {
    "colab": {
      "provenance": []
    },
    "kernelspec": {
      "display_name": "investigacionoperativa-py3.12",
      "language": "python",
      "name": "python3"
    },
    "language_info": {
      "codemirror_mode": {
        "name": "ipython",
        "version": 3
      },
      "file_extension": ".py",
      "mimetype": "text/x-python",
      "name": "python",
      "nbconvert_exporter": "python",
      "pygments_lexer": "ipython3",
      "version": "3.12.10"
    }
  },
  "nbformat": 4,
  "nbformat_minor": 0
}
