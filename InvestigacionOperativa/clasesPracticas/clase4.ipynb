{
  "cells": [
    {
      "cell_type": "markdown",
      "metadata": {
        "id": "Jis5D-aMJAFW"
      },
      "source": [
        "# Clase 4 - Minimax y maximin\n",
        "## Investigación Operativa 2C 2025 - Departamento de Matemática - FCEN-UBA"
      ]
    },
    {
      "cell_type": "markdown",
      "metadata": {
        "id": "WqSkzOfwQlqP"
      },
      "source": [
        "### Inicialización"
      ]
    },
    {
      "cell_type": "code",
      "execution_count": null,
      "metadata": {
        "id": "9tEVototPcTG"
      },
      "outputs": [],
      "source": [
        "!pip install -q condacolab\n",
        "import condacolab\n",
        "condacolab.install_from_url(\"https://github.com/conda-forge/miniforge/releases/download/25.3.1-0/Miniforge3-Linux-x86_64.sh\")"
      ]
    },
    {
      "cell_type": "code",
      "execution_count": null,
      "metadata": {
        "id": "8R9itkxKPl15"
      },
      "outputs": [],
      "source": [
        "!conda install -q pyscipopt"
      ]
    },
    {
      "cell_type": "code",
      "execution_count": 1,
      "metadata": {
        "id": "VadNtUE6RIpD"
      },
      "outputs": [],
      "source": [
        "# Importamos la clase Model de pyscipopt\n",
        "from pyscipopt import Model\n",
        "# Importamos numpy\n",
        "import numpy as np"
      ]
    },
    {
      "cell_type": "markdown",
      "metadata": {
        "id": "w1iOofWoJLJK"
      },
      "source": [
        "### Anuncios publicitarios"
      ]
    },
    {
      "cell_type": "markdown",
      "metadata": {
        "id": "lz_mUh3OJPDG"
      },
      "source": [
        "Resolver el modelo para decidir cuántos anuncios comprar en cada medio:\n",
        "\n",
        "$$\n",
        "    \\begin{array}{crl}\n",
        "        \\max: & w &  \\\\\n",
        "        \\text{s.a.:} & 35x_1+29x_2+22x_3+27x_4 \\leq & 850\\\\\n",
        "         & x_1\\leq &20\\\\\n",
        "         & x_2\\leq &15 \\\\\n",
        "         & x_3\\leq &25 \\\\\n",
        "         & x_4\\leq &15 \\\\\n",
        "         & w \\leq & 50x_1+31x_2+20x_3+26x_4 \\\\\n",
        "         & w \\leq & 32x_1+41x_2+15x_3+19x_4 \\\\\n",
        "         & w \\leq & 60x_1+38x_2+22x_3+25x_4 \\\\\n",
        "         & x_1+x_2-x_3-x_4 \\leq & 10 \\\\\n",
        "         & x_1+x_2-x_3-x_4 \\geq & -10 \\\\\n",
        "         & x_3 \\geq & 0.05(x_1+x_2+x_3+x_4) \\\\\n",
        "         & w & \\in\\mathbb{R} \\\\\n",
        "         & x_j & \\in\\mathbb{Z}_{\\geq 0}\\;\\forall j\n",
        "    \\end{array}\n",
        "$$\n"
      ]
    },
    {
      "cell_type": "code",
      "execution_count": 2,
      "metadata": {
        "id": "i8GWYkT1LWvu"
      },
      "outputs": [],
      "source": [
        "# Precio (en miles) por anuncio en cada medio\n",
        "c = np.array([35, 29, 22, 27])\n",
        "\n",
        "# Matriz con las proyecciones: cada columna corresponde a un medio, cada fila a una proyeccion\n",
        "P = np.array([\n",
        "    [50, 31, 20, 26],\n",
        "    [32, 41, 15, 19],\n",
        "    [60, 38, 22, 25]\n",
        "])\n",
        "\n",
        "# Vector con la cota superior de anuncios para cada medio\n",
        "u = np.array([20, 15, 25, 15])"
      ]
    },
    {
      "cell_type": "code",
      "execution_count": 4,
      "metadata": {},
      "outputs": [
        {
          "name": "stdout",
          "output_type": "stream",
          "text": [
            "feasible solution found by trivial heuristic after 0.0 seconds, objective value 0.000000e+00\n",
            "presolving:\n",
            "(round 1, fast)       0 del vars, 5 del conss, 0 add conss, 10 chg bounds, 0 chg sides, 0 chg coeffs, 0 upgd conss, 0 impls, 0 clqs\n",
            "(round 2, fast)       0 del vars, 5 del conss, 0 add conss, 10 chg bounds, 0 chg sides, 0 chg coeffs, 0 upgd conss, 0 impls, 0 clqs\n",
            "(round 3, exhaustive) 0 del vars, 6 del conss, 0 add conss, 10 chg bounds, 0 chg sides, 0 chg coeffs, 0 upgd conss, 0 impls, 0 clqs\n",
            "   (0.0s) symmetry computation started: requiring (bin +, int +, cont +), (fixed: bin -, int -, cont -)\n",
            "   (0.0s) no symmetry present (symcode time: 0.00)\n",
            "presolving (4 rounds: 4 fast, 2 medium, 2 exhaustive):\n",
            " 0 deleted vars, 6 deleted constraints, 0 added constraints, 10 tightened bounds, 0 added holes, 0 changed sides, 0 changed coefficients\n",
            " 0 implications, 0 cliques\n",
            "presolved problem has 5 variables (0 bin, 4 int, 1 impl, 0 cont) and 5 constraints\n",
            "      5 constraints of type <linear>\n",
            "transformed objective value is always integral (scale: 1)\n",
            "Presolving Time: 0.00\n",
            "transformed 1/1 original solutions to the transformed problem space\n",
            "\n",
            " time | node  | left  |LP iter|LP it/n|mem/heur|mdpt |vars |cons |rows |cuts |sepa|confs|strbr|  dualbound   | primalbound  |  gap   | compl. \n",
            "  0.0s|     1 |     0 |     4 |     - |   627k |   0 |   5 |   5 |   5 |   0 |  0 |   0 |   0 | 9.404390e+02 | 0.000000e+00 |    Inf | unknown\n",
            "r 0.0s|     1 |     0 |     5 |     - |shifting|   0 |   5 |   5 |   5 |   0 |  0 |   0 |   0 | 9.400000e+02 | 8.990000e+02 |   4.56%| unknown\n",
            "  0.0s|     1 |     0 |     5 |     - |   631k |   0 |   5 |   5 |   5 |   0 |  0 |   0 |   0 | 9.400000e+02 | 8.990000e+02 |   4.56%| unknown\n",
            "  0.0s|     1 |     0 |     5 |     - |   631k |   0 |   5 |   5 |   5 |   0 |  0 |   0 |   0 | 9.400000e+02 | 8.990000e+02 |   4.56%| unknown\n",
            "* 0.0s|     1 |     0 |     5 |     - |    LP  |   0 |   5 |   5 |   5 |   0 |  0 |   0 |   0 | 9.400000e+02 | 9.390000e+02 |   0.11%| unknown\n",
            "  0.0s|     1 |     0 |     6 |     - |   897k |   0 |   5 |  35 |   5 |   0 |  1 |   0 |   0 | 9.390000e+02 | 9.390000e+02 |   0.00%| unknown\n",
            "  0.0s|     1 |     0 |     6 |     - |   897k |   0 |   5 |  35 |   5 |   0 |  1 |   0 |   0 | 9.390000e+02 | 9.390000e+02 |   0.00%| unknown\n",
            "\n",
            "SCIP Status        : problem is solved [optimal solution found]\n",
            "Solving Time (sec) : 0.02\n",
            "Solving Nodes      : 1\n",
            "Primal Bound       : +9.39000000000000e+02 (3 solutions)\n",
            "Dual Bound         : +9.39000000000000e+02\n",
            "Gap                : 0.00 %\n"
          ]
        }
      ],
      "source": [
        "model = Model('Clase4')\n",
        "\n",
        "X = np.empty(len(c), dtype = 'object')\n",
        "\n",
        "medium_range = range(len(c))\n",
        "\n",
        "for i in medium_range:\n",
        "    X[i] = model.addVar(f'X_{i}', vtype='I')\n",
        "\n",
        "W = model.addVar(f'W', vtype='C')\n",
        "\n",
        "model.setObjective(W, sense='maximize')\n",
        "\n",
        "model.addCons(sum(c[i] * X[i] for i in medium_range) <= 850)\n",
        "for i in medium_range:\n",
        "    model.addCons(X[i] <= u[i])\n",
        "\n",
        "for j in range(len(P)):\n",
        "    model.addCons(sum(P[j, i] * X[i] for i in medium_range) >= W)\n",
        "\n",
        "model.addCons(X[0] + X[1] - X[2] - X[3] <= 10)\n",
        "model.addCons(X[0] + X[1] - X[2] - X[3] >= -10)\n",
        "model.addCons(X[0] + X[1] + X[2] + X[3] * 0.05 >= X[2])\n",
        "\n",
        "model.redirectOutput()\n",
        "model.optimize()\n",
        "sol = model.getBestSol()\n",
        "model.writeSol(sol, './InvestigacionOperativa/clasesPracticas/clase4-my.sol')"
      ]
    },
    {
      "cell_type": "code",
      "execution_count": null,
      "metadata": {},
      "outputs": [],
      "source": []
    }
  ],
  "metadata": {
    "colab": {
      "provenance": []
    },
    "kernelspec": {
      "display_name": "investigacionoperativa-py3.12",
      "language": "python",
      "name": "python3"
    },
    "language_info": {
      "codemirror_mode": {
        "name": "ipython",
        "version": 3
      },
      "file_extension": ".py",
      "mimetype": "text/x-python",
      "name": "python",
      "nbconvert_exporter": "python",
      "pygments_lexer": "ipython3",
      "version": "3.12.10"
    }
  },
  "nbformat": 4,
  "nbformat_minor": 0
}
