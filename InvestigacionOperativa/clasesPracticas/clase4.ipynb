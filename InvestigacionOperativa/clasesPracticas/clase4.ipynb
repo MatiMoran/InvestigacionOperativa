{
  "nbformat": 4,
  "nbformat_minor": 0,
  "metadata": {
    "colab": {
      "provenance": []
    },
    "kernelspec": {
      "name": "python3",
      "display_name": "Python 3"
    },
    "language_info": {
      "name": "python"
    }
  },
  "cells": [
    {
      "cell_type": "markdown",
      "source": [
        "# Clase 4 - Minimax y maximin\n",
        "## Investigación Operativa 2C 2025 - Departamento de Matemática - FCEN-UBA"
      ],
      "metadata": {
        "id": "Jis5D-aMJAFW"
      }
    },
    {
      "cell_type": "markdown",
      "source": [
        "### Inicialización"
      ],
      "metadata": {
        "id": "WqSkzOfwQlqP"
      }
    },
    {
      "cell_type": "code",
      "execution_count": null,
      "metadata": {
        "id": "9tEVototPcTG"
      },
      "outputs": [],
      "source": [
        "!pip install -q condacolab\n",
        "import condacolab\n",
        "condacolab.install_from_url(\"https://github.com/conda-forge/miniforge/releases/download/25.3.1-0/Miniforge3-Linux-x86_64.sh\")"
      ]
    },
    {
      "cell_type": "code",
      "source": [
        "!conda install -q pyscipopt"
      ],
      "metadata": {
        "id": "8R9itkxKPl15"
      },
      "execution_count": null,
      "outputs": []
    },
    {
      "cell_type": "code",
      "source": [
        "# Importamos la clase Model de pyscipopt\n",
        "from pyscipopt import Model\n",
        "# Importamos numpy\n",
        "import numpy as np"
      ],
      "metadata": {
        "id": "VadNtUE6RIpD"
      },
      "execution_count": null,
      "outputs": []
    },
    {
      "cell_type": "markdown",
      "source": [
        "### Anuncios publicitarios"
      ],
      "metadata": {
        "id": "w1iOofWoJLJK"
      }
    },
    {
      "cell_type": "markdown",
      "source": [
        "Resolver el modelo para decidir cuántos anuncios comprar en cada medio:\n",
        "\n",
        "$$\n",
        "    \\begin{array}{crl}\n",
        "        \\max: & w &  \\\\\n",
        "        \\text{s.a.:} & 35x_1+29x_2+22x_3+27x_4 \\leq & 850\\\\\n",
        "         & x_1\\leq &20\\\\\n",
        "         & x_2\\leq &15 \\\\\n",
        "         & x_3\\leq &25 \\\\\n",
        "         & x_4\\leq &15 \\\\\n",
        "         & w \\leq & 50x_1+31x_2+20x_3+26x_4 \\\\\n",
        "         & w \\leq & 32x_1+41x_2+15x_3+19x_4 \\\\\n",
        "         & w \\leq & 60x_1+38x_2+22x_3+25x_4 \\\\\n",
        "         & x_1+x_2-x_3-x_4 \\leq & 10 \\\\\n",
        "         & x_1+x_2-x_3-x_4 \\geq & -10 \\\\\n",
        "         & x_3 \\geq & 0.05(x_1+x_2+x_3+x_4) \\\\\n",
        "         & w & \\in\\mathbb{R} \\\\\n",
        "         & x_j & \\in\\mathbb{Z}_{\\geq 0}\\;\\forall j\n",
        "    \\end{array}\n",
        "$$\n"
      ],
      "metadata": {
        "id": "lz_mUh3OJPDG"
      }
    },
    {
      "cell_type": "code",
      "source": [
        "# Precio (en miles) por anuncio en cada medio\n",
        "c = np.array([35, 29, 22, 27])\n",
        "\n",
        "# Matriz con las proyecciones: cada columna corresponde a un medio, cada fila a una proyeccion\n",
        "P = np.array([\n",
        "    [50, 31, 20, 26],\n",
        "    [32, 41, 15, 19],\n",
        "    [60, 38, 22, 25]\n",
        "])\n",
        "\n",
        "# Vector con la cota superior de anuncios para cada medio\n",
        "u = np.array([20, 15, 25, 15])"
      ],
      "metadata": {
        "id": "i8GWYkT1LWvu"
      },
      "execution_count": null,
      "outputs": []
    }
  ]
}
