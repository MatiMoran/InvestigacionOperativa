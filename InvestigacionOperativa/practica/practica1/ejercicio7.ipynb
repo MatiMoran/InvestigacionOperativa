{
  "cells": [
    {
      "cell_type": "markdown",
      "metadata": {
        "id": "lz_mUh3OJPDG"
      },
      "source": [
        "x_j : colegio en sitio j\n",
        "y_ji: colegio en sitio j sirve al districto i\n",
        "\n",
        "\n",
        "para todo j: SUM(y_ji) >= 1 => x_j = 1 (si un sitio sirve a almenos un districo tengo que consituir un colegio ahi)\n",
        "\n",
        "para todo j: sum(y_ji) <= 2 (solo puede servir a lo sumo 2 districtos)\n",
        "\n",
        "para todo i: sum(y_ji) = 1  (solo un colegio sirve a un districto)\n",
        "\n",
        "s_j = SUM_i(y_ji * p_i)\n",
        "SUM_j(x_j*c_j + s_j * F) <= B\n",
        "\n",
        "s_j <= T_j (capacidad colegio)\n",
        "\n",
        "y_ju + y_jv <= 1 para todo j\n",
        "\n",
        "FO: MIN(MAX(d_ji * y_ji))\n",
        "  MIN(W)\n",
        "  SUM_i(d_1i * y_1i) <= W\n",
        "  SUM_i(d_2i * y_2i) <= W\n",
        "  SUM_i(d_3i * y_3i) <= W\n",
        "  SUM_i(d_4i * y_3i) <= W\n",
        "  ...\n",
        "  SUM_i(d_Ji * y_Ji) <= W"
      ]
    }
  ],
  "metadata": {
    "colab": {
      "provenance": []
    },
    "kernelspec": {
      "display_name": "investigacionoperativa-py3.12 (3.12.11)",
      "language": "python",
      "name": "python3"
    },
    "language_info": {
      "codemirror_mode": {
        "name": "ipython",
        "version": 3
      },
      "file_extension": ".py",
      "mimetype": "text/x-python",
      "name": "python",
      "nbconvert_exporter": "python",
      "pygments_lexer": "ipython3",
      "version": "3.12.11"
    }
  },
  "nbformat": 4,
  "nbformat_minor": 0
}
