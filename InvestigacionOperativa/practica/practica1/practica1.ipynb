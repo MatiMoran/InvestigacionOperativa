{
 "cells": [
  {
   "cell_type": "code",
   "execution_count": 2,
   "id": "18c9a4a6",
   "metadata": {},
   "outputs": [],
   "source": [
    "from pyscipopt import Model\n",
    "import numpy as np"
   ]
  },
  {
   "cell_type": "markdown",
   "id": "818c9d7f",
   "metadata": {},
   "source": [
    "# Practica 1"
   ]
  },
  {
   "cell_type": "markdown",
   "id": "15048cf9",
   "metadata": {},
   "source": [
    "## Ejercicio 1"
   ]
  },
  {
   "cell_type": "markdown",
   "id": "e0d53ed4",
   "metadata": {},
   "source": [
    "Indices\n",
    "- Cantidad de porciones: con i perteneciente a [1, 2, 3]\n",
    "- Cantidad de vitaminas: con j perteneciente a [A, C, D]\n",
    "\n",
    "Variables\n",
    "- A_i - Cantidad de porciones de 30g del alimento i \n",
    "\n",
    "Datos\n",
    "- V_ij - Cantidad de vitamina j en una porcion de 30 gramos del alimento i\n",
    "- C_i - Costo de 30 gramos del alimento i\n",
    "- RDM_j - racion diaria minima de vitamina j\n",
    "\n",
    "FO\n",
    "- MIN(COSTO = SUM(A_i * C_I)) - minimizar costo de la porcion\n",
    "\n",
    "s.a\n",
    "- SUM_i(A_i) >= 225/30  - la porcion tiene que tener al menos 225 grm\n",
    "- SUM_i(A_I * V_ij) >= RDM_j for all j - la porcion tiene que tener todas las vitaminas minimas"
   ]
  },
  {
   "cell_type": "code",
   "execution_count": 13,
   "id": "21cc72ca",
   "metadata": {},
   "outputs": [
    {
     "name": "stdout",
     "output_type": "stream",
     "text": [
      "feasible solution found by trivial heuristic after 0.0 seconds, objective value 3.700000e+04\n",
      "presolving:\n",
      "(round 1, fast)       0 del vars, 0 del conss, 0 add conss, 3 chg bounds, 1 chg sides, 0 chg coeffs, 0 upgd conss, 0 impls, 0 clqs\n",
      "(round 2, fast)       0 del vars, 0 del conss, 0 add conss, 6 chg bounds, 1 chg sides, 0 chg coeffs, 0 upgd conss, 0 impls, 0 clqs\n",
      "   (0.0s) symmetry computation started: requiring (bin +, int +, cont +), (fixed: bin -, int -, cont -)\n",
      "   (0.0s) no symmetry present (symcode time: 0.00)\n",
      "presolving (3 rounds: 3 fast, 1 medium, 1 exhaustive):\n",
      " 0 deleted vars, 0 deleted constraints, 0 added constraints, 6 tightened bounds, 0 added holes, 1 changed sides, 0 changed coefficients\n",
      " 0 implications, 0 cliques\n",
      "presolved problem has 3 variables (0 bin, 3 int, 0 impl, 0 cont) and 4 constraints\n",
      "      4 constraints of type <linear>\n",
      "transformed objective value is always integral (scale: 0.01)\n",
      "Presolving Time: 0.00\n",
      "\n",
      " time | node  | left  |LP iter|LP it/n|mem/heur|mdpt |vars |cons |rows |cuts |sepa|confs|strbr|  dualbound   | primalbound  |  gap   | compl. \n",
      "t 0.0s|     1 |     0 |     0 |     - | trivial|   0 |   3 |   4 |   0 |   0 |  0 |   0 |   0 | 0.000000e+00 | 6.180000e+00 |    Inf | unknown\n",
      "i 0.0s|     1 |     0 |     0 |     - |  oneopt|   0 |   3 |   4 |   4 |   0 |  0 |   0 |   0 | 0.000000e+00 | 1.500000e+00 |    Inf | unknown\n",
      "  0.0s|     1 |     0 |     3 |     - |   611k |   0 |   3 |   4 |   4 |   0 |  0 |   0 |   0 | 1.164000e+00 | 1.500000e+00 |  28.87%| unknown\n",
      "r 0.0s|     1 |     0 |     3 |     - |simplero|   0 |   3 |   4 |   4 |   0 |  0 |   0 |   0 | 1.164000e+00 | 1.300000e+00 |  11.68%| unknown\n",
      "r 0.0s|     1 |     0 |     3 |     - |randroun|   0 |   3 |   4 |   4 |   0 |  0 |   0 |   0 | 1.164000e+00 | 1.180000e+00 |   1.37%| unknown\n",
      "  0.0s|     1 |     0 |     3 |     - |   615k |   0 |   3 |   4 |   4 |   0 |  0 |   0 |   0 | 1.164000e+00 | 1.180000e+00 |   1.37%| unknown\n",
      "  0.0s|     1 |     0 |     3 |     - |   615k |   0 |   3 |   4 |   4 |   0 |  0 |   0 |   0 | 1.164000e+00 | 1.180000e+00 |   1.37%| unknown\n",
      "  0.0s|     1 |     0 |     3 |     - |   615k |   0 |   3 |   4 |   4 |   0 |  0 |   0 |   0 | 1.180000e+00 | 1.180000e+00 |   0.00%| unknown\n",
      "\n",
      "SCIP Status        : problem is solved [optimal solution found]\n",
      "Solving Time (sec) : 0.01\n",
      "Solving Nodes      : 1\n",
      "Primal Bound       : +1.18000000000000e+00 (5 solutions)\n",
      "Dual Bound         : +1.18000000000000e+00\n",
      "Gap                : 0.00 %\n"
     ]
    }
   ],
   "source": [
    "# Vitamin content per 30g [rows: A, C, D; columns: Alimentos 1, 2, 3]\n",
    "vitamin_content = np.array([\n",
    "    [0.03, 0.02, 0.04],   # Vitamina A\n",
    "    [0.01, 0.015, 0.005], # Vitamina C\n",
    "    [0.04, 0.03, 0.02]    # Vitamina D\n",
    "])\n",
    "\n",
    "# Ración Diaria Mínima (RDM) for vitamins A, C, D\n",
    "rdm = np.array([0.3, 0.12, 0.21])\n",
    "\n",
    "# Cost per 30g portion for each food\n",
    "cost = np.array([0.15, 0.10, 0.12])\n",
    "\n",
    "# Portion size per unit and total minimum required in grams\n",
    "portion_size = 30\n",
    "min_total_grams = 225\n",
    "min_total_portions = min_total_grams / portion_size  # 7.5 portions minimum\n",
    "\n",
    "\n",
    "\n",
    "\n",
    "model = Model('Ej1')\n",
    "\n",
    "food_portion = np.empty(len(cost), dtype='object')\n",
    "for i in range(len(cost)):\n",
    "  food_portion[i] = model.addVar(f'x_{i}', vtype='I')\n",
    "\n",
    "model.setObjective(sum(food_portion[i] * cost[i] for i in range(len(cost))), sense='minimize')\n",
    "\n",
    "model.addCons(sum(food_portion[i] for i in range(len(cost))) >= min_total_portions)\n",
    "\n",
    "for j in range(len(rdm)):\n",
    "    model.addCons(sum(food_portion[i] * vitamin_content[j, i] for i in range(len(cost))) >= rdm[j])\n",
    "\n",
    "model.redirectOutput()\n",
    "model.optimize()\n",
    "sol = model.getBestSol()\n",
    "model.writeSol(sol, './InvestigacionOperativa/practica/practica1/Ej1.sol')"
   ]
  },
  {
   "cell_type": "code",
   "execution_count": 23,
   "id": "fc7471ea",
   "metadata": {},
   "outputs": [
    {
     "name": "stdout",
     "output_type": "stream",
     "text": [
      "costo final: 1.1800000000000002\n",
      "req: 7.5; cantidad porciones: 11.0\n",
      "req: 0.3; vitamina 0: 0.30000000000000004\n",
      "req: 0.12; vitamina 1: 0.125\n",
      "req: 0.21; vitamina 2: 0.29\n"
     ]
    }
   ],
   "source": [
    "print(f\"costo final: {sum(sol[food_portion[i]] * cost[i] for i in range(len(food_portion)))}\")\n",
    "print(f\"req: {225/30}; cantidad porciones: {sum(sol[food_portion[i]] for i in range(len(food_portion)))}\")\n",
    "\n",
    "for j in range(len(rdm)):\n",
    "    print(f\"req: {rdm[j]}; vitamina {j}: {sum(sol[food_portion[i]] * vitamin_content[j,i] for i in range(len(food_portion)))}\")"
   ]
  },
  {
   "cell_type": "markdown",
   "id": "5996f23a",
   "metadata": {},
   "source": [
    "## Ejercicio 2"
   ]
  },
  {
   "cell_type": "markdown",
   "id": "94d61f49",
   "metadata": {},
   "source": [
    "Indices\n",
    "- Cantidad de proyectos: con i perteneciente a [1, .., 6]\n",
    "\n",
    "Variables\n",
    "- A_i - Cantidad de millones de pesos invertidos en el proyecto i\n",
    "\n",
    "Datos\n",
    "- c_i - categoria de proyecto i\n",
    "- U_i - utilidad del proyecto i\n",
    "- fm_i - financiamiento maximo del proyecto i\n",
    "\n",
    "FO\n",
    "- MAX(utilidad = SUM(A_i * U_i)) - maximizar utilidad\n",
    "\n",
    "s.a\n",
    "- SUM_i(A_i) <= 1000 - el presupuesto total debe ser menor al disponible\n",
    "- A_i <= fm_i - el financiamiento de cada proyecto no puede exceder el maximo\n",
    "- A_i >= 50/100 * fm_i for all i in nuclear - el financiamiento de los proyectos nucleares tiene que ser al menos del 50%\n",
    "- SUM_i(A_i) >= 300 for all i in solar - el financiamiento de proyectos nucleares tiene que ser al menos de 300 M"
   ]
  },
  {
   "cell_type": "code",
   "execution_count": 31,
   "id": "bc1c09c0",
   "metadata": {},
   "outputs": [
    {
     "name": "stdout",
     "output_type": "stream",
     "text": [
      "presolving:\n",
      "(round 1, fast)       0 del vars, 7 del conss, 0 add conss, 15 chg bounds, 0 chg sides, 0 chg coeffs, 0 upgd conss, 0 impls, 0 clqs\n",
      "(round 2, exhaustive) 0 del vars, 7 del conss, 0 add conss, 15 chg bounds, 0 chg sides, 0 chg coeffs, 1 upgd conss, 0 impls, 0 clqs\n",
      "(round 3, exhaustive) 1 del vars, 7 del conss, 0 add conss, 15 chg bounds, 0 chg sides, 0 chg coeffs, 1 upgd conss, 0 impls, 0 clqs\n",
      "(round 4, fast)       1 del vars, 8 del conss, 0 add conss, 15 chg bounds, 0 chg sides, 0 chg coeffs, 1 upgd conss, 0 impls, 0 clqs\n",
      "   (0.0s) symmetry computation started: requiring (bin +, int +, cont +), (fixed: bin -, int -, cont -)\n",
      "   (0.0s) no symmetry present (symcode time: 0.00)\n",
      "presolving (5 rounds: 5 fast, 3 medium, 3 exhaustive):\n",
      " 1 deleted vars, 8 deleted constraints, 0 added constraints, 15 tightened bounds, 0 added holes, 0 changed sides, 0 changed coefficients\n",
      " 0 implications, 0 cliques\n",
      "presolved problem has 5 variables (0 bin, 5 int, 0 impl, 0 cont) and 1 constraints\n",
      "      1 constraints of type <linear>\n",
      "transformed objective value is always integral (scale: 0.1)\n",
      "Presolving Time: 0.00\n",
      "\n",
      " time | node  | left  |LP iter|LP it/n|mem/heur|mdpt |vars |cons |rows |cuts |sepa|confs|strbr|  dualbound   | primalbound  |  gap   | compl. \n",
      "t 0.0s|     1 |     0 |     0 |     - | trivial|   0 |   5 |   1 |   0 |   0 |  0 |   0 |   0 | 5.626000e+03 | 2.292000e+03 | 145.46%| unknown\n",
      "i 0.0s|     1 |     0 |     0 |     - |  oneopt|   0 |   5 |   1 |   1 |   0 |  0 |   0 |   0 | 5.626000e+03 | 4.512000e+03 |  24.69%| unknown\n",
      "* 0.0s|     1 |     0 |     1 |     - |    LP  |   0 |   5 |   1 |   1 |   0 |  0 |   0 |   0 | 4.527000e+03 | 4.527000e+03 |   0.00%| unknown\n",
      "  0.0s|     1 |     0 |     1 |     - |   611k |   0 |   5 |   1 |   1 |   0 |  0 |   0 |   0 | 4.527000e+03 | 4.527000e+03 |   0.00%| unknown\n",
      "\n",
      "SCIP Status        : problem is solved [optimal solution found]\n",
      "Solving Time (sec) : 0.00\n",
      "Solving Nodes      : 1\n",
      "Primal Bound       : +4.52700000000000e+03 (3 solutions)\n",
      "Dual Bound         : +4.52700000000000e+03\n",
      "Gap                : 0.00 %\n"
     ]
    }
   ],
   "source": [
    "# Net utility per peso invested for each project\n",
    "utility = np.array([4.4, 3.8, 4.1, 3.5, 5.1, 3.2])\n",
    "\n",
    "# Required total financing for each project (in millions)\n",
    "max_financing = np.array([220, 180, 250, 150, 400, 120])\n",
    "\n",
    "# Total available budget (in millions)\n",
    "budget = 1000\n",
    "\n",
    "# Indices for project categories\n",
    "solar_index = [0, 1]     # Projects 1 and 2\n",
    "nuclear_index = [4]          # Project 5\n",
    "\n",
    "\n",
    "\n",
    "model = Model('Ej2')\n",
    "\n",
    "project_range = range(len(utility))\n",
    "project_cash = np.empty(len(utility), dtype='object')\n",
    "for i in project_range:\n",
    "  project_cash[i] = model.addVar(f'x_{i}', vtype='I')\n",
    "\n",
    "model.setObjective(sum(project_cash[i] * utility[i] for i in project_range), sense='maximize')\n",
    "\n",
    "model.addCons(sum(project_cash[i] for i in project_range) <= 1000)\n",
    "\n",
    "for i in project_range:\n",
    "    model.addCons(project_cash[i] <= max_financing[i])\n",
    "    if i in nuclear_index:\n",
    "        model.addCons(project_cash[i] >= 50/100 * max_financing[i])\n",
    "\n",
    "model.addCons(sum(project_cash[i] for i in project_range if i in solar_index) >= 300)\n",
    "\n",
    "model.redirectOutput()\n",
    "model.optimize()\n",
    "sol = model.getBestSol()\n",
    "model.writeSol(sol, './InvestigacionOperativa/practica/practica1/Ej2.sol')"
   ]
  },
  {
   "cell_type": "code",
   "execution_count": 32,
   "id": "ea1b6b94",
   "metadata": {},
   "outputs": [
    {
     "name": "stdout",
     "output_type": "stream",
     "text": [
      "utilidad final: 4527.0\n",
      "req: 1000; budget gastado: 1000.0\n",
      "req: 200.0; financing nuclear: 400.0\n",
      "req: 300; financing solar: 350.0\n"
     ]
    }
   ],
   "source": [
    "print(f\"utilidad final: {sum(sol[project_cash[i]] * utility[i] for i in project_range)}\")\n",
    "print(f\"req: {1000}; budget gastado: {sum(sol[project_cash[i]] for i in project_range)}\")\n",
    "print(f\"req: {0.5 * sum(max_financing[i] for i in nuclear_index)}; financing nuclear: {sum(sol[project_cash[i]] for i in nuclear_index)}\")\n",
    "print(f\"req: {300}; financing solar: {sum(sol[project_cash[i]] for i in solar_index)}\")"
   ]
  },
  {
   "cell_type": "markdown",
   "id": "ceb7f997",
   "metadata": {},
   "source": [
    "## Ejercicio 3"
   ]
  },
  {
   "cell_type": "markdown",
   "id": "73d11e6e",
   "metadata": {},
   "source": [
    "Indices\n",
    "- Cantidad de paises: con i perteneciente a [1, .., N]\n",
    "- Cantidad de colores: con k perteneciente a [1, .., inf a priori, por teo de 4 colores sabemos q son 4]\n",
    "\n",
    "Variables\n",
    "- C_k: uso el color i\n",
    "- P_ik: pinto el pais i del color k\n",
    "\n",
    "Datos\n",
    "- L_ij - flag que dice si el pais i es limitrofe al pais j (matriz simetrica)\n",
    "\n",
    "FO\n",
    "- MIN(cantidad_de_colores_usados = SUM_K(C_k)) - minimizar la cantidad de colores usados\n",
    "\n",
    "s.a\n",
    "- eps * SUM_i(P_ik) <= C_k for all k - si pinto algun pais del color k, C_k tiene que valer 1, aca el eps puede vale N\n",
    "- SUM_k(P_ik) = 1 for all i - tengo que pintar todos los paises de un solo color\n",
    "- P_ik + P_jk <= 1 for all (i,j) tal que son limitrofes for all k - no puedo pintar limitrofes del mismo color"
   ]
  },
  {
   "cell_type": "markdown",
   "id": "e32a1cf1",
   "metadata": {},
   "source": []
  }
 ],
 "metadata": {
  "kernelspec": {
   "display_name": "investigacionoperativa-py3.12",
   "language": "python",
   "name": "python3"
  },
  "language_info": {
   "codemirror_mode": {
    "name": "ipython",
    "version": 3
   },
   "file_extension": ".py",
   "mimetype": "text/x-python",
   "name": "python",
   "nbconvert_exporter": "python",
   "pygments_lexer": "ipython3",
   "version": "3.12.10"
  }
 },
 "nbformat": 4,
 "nbformat_minor": 5
}
