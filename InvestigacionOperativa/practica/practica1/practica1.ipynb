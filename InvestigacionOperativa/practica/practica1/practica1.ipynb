{
 "cells": [
  {
   "cell_type": "code",
   "execution_count": 2,
   "id": "18c9a4a6",
   "metadata": {},
   "outputs": [],
   "source": [
    "from pyscipopt import Model\n",
    "import numpy as np"
   ]
  },
  {
   "cell_type": "markdown",
   "id": "818c9d7f",
   "metadata": {},
   "source": [
    "# Practica 1"
   ]
  },
  {
   "cell_type": "markdown",
   "id": "15048cf9",
   "metadata": {},
   "source": [
    "## Ejercicio 1"
   ]
  },
  {
   "cell_type": "markdown",
   "id": "e0d53ed4",
   "metadata": {},
   "source": [
    "Features\n",
    "- Cantidad de porciones: con i perteneciente a [1, 2, 3]\n",
    "- Cantidad de vitaminas: con j perteneciente a [A, C, D]\n",
    "\n",
    "Variables\n",
    "- A_i - Cantidad de porciones de 30g del alimento i \n",
    "\n",
    "Datos\n",
    "- V_ij - Cantidad de vitamina j en una porcion de 30 gramos del alimento i\n",
    "- C_i - Costo de 30 gramos del alimento i\n",
    "- RDM_j - racion diaria minima de vitamina j\n",
    "\n",
    "FO: \n",
    "- MIN(COSTO = SUM(A_i * C_I))\n",
    "s.a: \n",
    "- SUM_i(A_i) >= 225/30  \n",
    "- SUM_i(A_I * V_ij) >= RDM_j for all j"
   ]
  },
  {
   "cell_type": "code",
   "execution_count": 13,
   "id": "21cc72ca",
   "metadata": {},
   "outputs": [
    {
     "name": "stdout",
     "output_type": "stream",
     "text": [
      "feasible solution found by trivial heuristic after 0.0 seconds, objective value 3.700000e+04\n",
      "presolving:\n",
      "(round 1, fast)       0 del vars, 0 del conss, 0 add conss, 3 chg bounds, 1 chg sides, 0 chg coeffs, 0 upgd conss, 0 impls, 0 clqs\n",
      "(round 2, fast)       0 del vars, 0 del conss, 0 add conss, 6 chg bounds, 1 chg sides, 0 chg coeffs, 0 upgd conss, 0 impls, 0 clqs\n",
      "   (0.0s) symmetry computation started: requiring (bin +, int +, cont +), (fixed: bin -, int -, cont -)\n",
      "   (0.0s) no symmetry present (symcode time: 0.00)\n",
      "presolving (3 rounds: 3 fast, 1 medium, 1 exhaustive):\n",
      " 0 deleted vars, 0 deleted constraints, 0 added constraints, 6 tightened bounds, 0 added holes, 1 changed sides, 0 changed coefficients\n",
      " 0 implications, 0 cliques\n",
      "presolved problem has 3 variables (0 bin, 3 int, 0 impl, 0 cont) and 4 constraints\n",
      "      4 constraints of type <linear>\n",
      "transformed objective value is always integral (scale: 0.01)\n",
      "Presolving Time: 0.00\n",
      "\n",
      " time | node  | left  |LP iter|LP it/n|mem/heur|mdpt |vars |cons |rows |cuts |sepa|confs|strbr|  dualbound   | primalbound  |  gap   | compl. \n",
      "t 0.0s|     1 |     0 |     0 |     - | trivial|   0 |   3 |   4 |   0 |   0 |  0 |   0 |   0 | 0.000000e+00 | 6.180000e+00 |    Inf | unknown\n",
      "i 0.0s|     1 |     0 |     0 |     - |  oneopt|   0 |   3 |   4 |   4 |   0 |  0 |   0 |   0 | 0.000000e+00 | 1.500000e+00 |    Inf | unknown\n",
      "  0.0s|     1 |     0 |     3 |     - |   611k |   0 |   3 |   4 |   4 |   0 |  0 |   0 |   0 | 1.164000e+00 | 1.500000e+00 |  28.87%| unknown\n",
      "r 0.0s|     1 |     0 |     3 |     - |simplero|   0 |   3 |   4 |   4 |   0 |  0 |   0 |   0 | 1.164000e+00 | 1.300000e+00 |  11.68%| unknown\n",
      "r 0.0s|     1 |     0 |     3 |     - |randroun|   0 |   3 |   4 |   4 |   0 |  0 |   0 |   0 | 1.164000e+00 | 1.180000e+00 |   1.37%| unknown\n",
      "  0.0s|     1 |     0 |     3 |     - |   615k |   0 |   3 |   4 |   4 |   0 |  0 |   0 |   0 | 1.164000e+00 | 1.180000e+00 |   1.37%| unknown\n",
      "  0.0s|     1 |     0 |     3 |     - |   615k |   0 |   3 |   4 |   4 |   0 |  0 |   0 |   0 | 1.164000e+00 | 1.180000e+00 |   1.37%| unknown\n",
      "  0.0s|     1 |     0 |     3 |     - |   615k |   0 |   3 |   4 |   4 |   0 |  0 |   0 |   0 | 1.180000e+00 | 1.180000e+00 |   0.00%| unknown\n",
      "\n",
      "SCIP Status        : problem is solved [optimal solution found]\n",
      "Solving Time (sec) : 0.01\n",
      "Solving Nodes      : 1\n",
      "Primal Bound       : +1.18000000000000e+00 (5 solutions)\n",
      "Dual Bound         : +1.18000000000000e+00\n",
      "Gap                : 0.00 %\n"
     ]
    }
   ],
   "source": [
    "# Vitamin content per 30g [rows: A, C, D; columns: Alimentos 1, 2, 3]\n",
    "vitamin_content = np.array([\n",
    "    [0.03, 0.02, 0.04],   # Vitamina A\n",
    "    [0.01, 0.015, 0.005], # Vitamina C\n",
    "    [0.04, 0.03, 0.02]    # Vitamina D\n",
    "])\n",
    "\n",
    "# Ración Diaria Mínima (RDM) for vitamins A, C, D\n",
    "rdm = np.array([0.3, 0.12, 0.21])\n",
    "\n",
    "# Cost per 30g portion for each food\n",
    "cost = np.array([0.15, 0.10, 0.12])\n",
    "\n",
    "# Portion size per unit and total minimum required in grams\n",
    "portion_size = 30\n",
    "min_total_grams = 225\n",
    "min_total_portions = min_total_grams / portion_size  # 7.5 portions minimum\n",
    "\n",
    "\n",
    "\n",
    "\n",
    "model = Model('Ej1')\n",
    "\n",
    "food_portion = np.empty(len(cost), dtype='object')\n",
    "for i in range(len(cost)):\n",
    "  food_portion[i] = model.addVar(f'x_{i}', vtype='I')\n",
    "\n",
    "model.setObjective(sum(food_portion[i] * cost[i] for i in range(len(cost))), sense='minimize')\n",
    "\n",
    "model.addCons(sum(food_portion[i] for i in range(len(cost))) >= min_total_portions)\n",
    "\n",
    "for j in range(len(rdm)):\n",
    "    model.addCons(sum(food_portion[i] * vitamin_content[j, i] for i in range(len(cost))) >= rdm[j])\n",
    "\n",
    "model.redirectOutput()\n",
    "model.optimize()\n",
    "sol = model.getBestSol()\n",
    "model.writeSol(sol, './InvestigacionOperativa/practica/practica1/Ej1.sol')"
   ]
  },
  {
   "cell_type": "code",
   "execution_count": 23,
   "id": "fc7471ea",
   "metadata": {},
   "outputs": [
    {
     "name": "stdout",
     "output_type": "stream",
     "text": [
      "costo final: 1.1800000000000002\n",
      "req: 7.5; cantidad porciones: 11.0\n",
      "req: 0.3; vitamina 0: 0.30000000000000004\n",
      "req: 0.12; vitamina 1: 0.125\n",
      "req: 0.21; vitamina 2: 0.29\n"
     ]
    }
   ],
   "source": [
    "print(f\"costo final: {sum(sol[food_portion[i]] * cost[i] for i in range(len(food_portion)))}\")\n",
    "print(f\"req: {225/30}; cantidad porciones: {sum(sol[food_portion[i]] for i in range(len(food_portion)))}\")\n",
    "\n",
    "for j in range(len(rdm)):\n",
    "    print(f\"req: {rdm[j]}; vitamina {j}: {sum(sol[food_portion[i]] * vitamin_content[j,i] for i in range(len(food_portion)))}\")"
   ]
  },
  {
   "cell_type": "markdown",
   "id": "5996f23a",
   "metadata": {},
   "source": [
    "## Ejercicio 2"
   ]
  },
  {
   "cell_type": "markdown",
   "id": "94d61f49",
   "metadata": {},
   "source": [
    "Features\n",
    "- Cantidad de porciones: con i perteneciente a [1, 2, 3]\n",
    "- Cantidad de vitaminas: con j perteneciente a [A, C, D]\n",
    "\n",
    "Variables\n",
    "- A_i - Cantidad de porciones de 30g del alimento i \n",
    "\n",
    "Datos\n",
    "- V_ij - Cantidad de vitamina j en una porcion de 30 gramos del alimento i\n",
    "- C_i - Costo de 30 gramos del alimento i\n",
    "- RDM_j - racion diaria minima de vitamina j\n",
    "\n",
    "FO: \n",
    "- MIN(COSTO = SUM(A_i * C_I))\n",
    "s.a: \n",
    "- SUM_i(A_i) >= 225/30  \n",
    "- SUM_i(A_I * V_ij) >= RDM_j for all j"
   ]
  }
 ],
 "metadata": {
  "kernelspec": {
   "display_name": "investigacionoperativa-py3.12",
   "language": "python",
   "name": "python3"
  },
  "language_info": {
   "codemirror_mode": {
    "name": "ipython",
    "version": 3
   },
   "file_extension": ".py",
   "mimetype": "text/x-python",
   "name": "python",
   "nbconvert_exporter": "python",
   "pygments_lexer": "ipython3",
   "version": "3.12.10"
  }
 },
 "nbformat": 4,
 "nbformat_minor": 5
}
