{
 "cells": [
  {
   "cell_type": "code",
   "execution_count": null,
   "id": "18c9a4a6",
   "metadata": {},
   "outputs": [],
   "source": [
    "from pyscipopt import Model\n",
    "import numpy as np"
   ]
  },
  {
   "cell_type": "markdown",
   "id": "818c9d7f",
   "metadata": {},
   "source": [
    "# Practica 2"
   ]
  },
  {
   "cell_type": "markdown",
   "id": "15048cf9",
   "metadata": {},
   "source": [
    "## Ejercicio 2 y 3"
   ]
  },
  {
   "cell_type": "code",
   "execution_count": 7,
   "id": "21cc72ca",
   "metadata": {},
   "outputs": [
    {
     "name": "stdout",
     "output_type": "stream",
     "text": [
      "feasible solution found by trivial heuristic after 0.0 seconds, objective value 0.000000e+00\n",
      "presolving:\n",
      "(round 1, fast)       2 del vars, 0 del conss, 0 add conss, 2 chg bounds, 0 chg sides, 0 chg coeffs, 0 upgd conss, 0 impls, 0 clqs\n",
      "(round 2, fast)       2 del vars, 0 del conss, 0 add conss, 4 chg bounds, 0 chg sides, 0 chg coeffs, 0 upgd conss, 0 impls, 0 clqs\n",
      "(round 3, fast)       2 del vars, 0 del conss, 0 add conss, 6 chg bounds, 0 chg sides, 0 chg coeffs, 0 upgd conss, 0 impls, 0 clqs\n",
      "(round 4, fast)       2 del vars, 0 del conss, 0 add conss, 8 chg bounds, 0 chg sides, 0 chg coeffs, 0 upgd conss, 0 impls, 0 clqs\n",
      "(round 5, fast)       2 del vars, 0 del conss, 0 add conss, 10 chg bounds, 0 chg sides, 0 chg coeffs, 0 upgd conss, 0 impls, 0 clqs\n",
      "(round 6, fast)       2 del vars, 0 del conss, 0 add conss, 11 chg bounds, 0 chg sides, 0 chg coeffs, 0 upgd conss, 0 impls, 0 clqs\n",
      "(round 7, fast)       2 del vars, 0 del conss, 0 add conss, 12 chg bounds, 0 chg sides, 0 chg coeffs, 0 upgd conss, 0 impls, 0 clqs\n",
      "(round 8, fast)       2 del vars, 0 del conss, 0 add conss, 13 chg bounds, 0 chg sides, 0 chg coeffs, 0 upgd conss, 0 impls, 0 clqs\n",
      "(round 9, fast)       2 del vars, 0 del conss, 0 add conss, 14 chg bounds, 0 chg sides, 0 chg coeffs, 0 upgd conss, 0 impls, 0 clqs\n",
      "(round 10, fast)       2 del vars, 0 del conss, 0 add conss, 15 chg bounds, 0 chg sides, 0 chg coeffs, 0 upgd conss, 0 impls, 0 clqs\n",
      "(round 11, fast)       2 del vars, 0 del conss, 0 add conss, 16 chg bounds, 0 chg sides, 0 chg coeffs, 0 upgd conss, 0 impls, 0 clqs\n",
      "(round 12, fast)       2 del vars, 0 del conss, 0 add conss, 17 chg bounds, 0 chg sides, 0 chg coeffs, 0 upgd conss, 0 impls, 0 clqs\n",
      "   (0.0s) symmetry computation started: requiring (bin +, int +, cont +), (fixed: bin -, int -, cont -)\n",
      "   (0.0s) no symmetry present (symcode time: 0.00)\n",
      "presolving (13 rounds: 13 fast, 1 medium, 1 exhaustive):\n",
      " 2 deleted vars, 0 deleted constraints, 0 added constraints, 17 tightened bounds, 0 added holes, 0 cOptimal value: -64.0\n",
      "x1 = 0.0\n",
      "x2 = 7.0\n",
      "x3 = 19.0\n",
      "x4 = 0.0\n",
      "hanged sides, 0 changed coefficients\n",
      " 0 implications, 0 cliques\n",
      "presolved problem has 2 variables (0 bin, 0 int, 0 impl, 2 cont) and 3 constraints\n",
      "      3 constraints of type <linear>\n",
      "Presolving Time: 0.00\n",
      "\n",
      " time | node  | left  |LP iter|LP it/n|mem/heur|mdpt |vars |cons |rows |cuts |sepa|confs|strbr|  dualbound   | primalbound  |  gap   | compl. \n",
      "t 0.0s|     1 |     0 |     0 |     - | trivial|   0 |   2 |   3 |   0 |   0 |  0 |   0 |   0 |      --      |-5.785460e+01 |    Inf | unknown\n",
      "* 0.0s|     1 |     0 |     2 |     - |    LP  |   0 |   2 |   3 |   3 |   0 |  0 |   0 |   0 |-6.400000e+01 |-6.400000e+01 |   0.00%| unknown\n",
      "  0.0s|     1 |     0 |     2 |     - |   603k |   0 |   2 |   3 |   3 |   0 |  0 |   0 |   0 |-6.400000e+01 |-6.400000e+01 |   0.00%| unknown\n",
      "\n",
      "SCIP Status        : problem is solved [optimal solution found]\n",
      "Solving Time (sec) : 0.00\n",
      "Solving Nodes      : 1\n",
      "Primal Bound       : -6.40000000000000e+01 (3 solutions)\n",
      "Dual Bound         : -6.40000000000000e+01\n",
      "Gap                : 0.00 %\n"
     ]
    }
   ],
   "source": [
    "model = Model(\"LP_Problem_A\")\n",
    "\n",
    "# Define variables\n",
    "x1 = model.addVar(\"x1\", lb=0)\n",
    "x2 = model.addVar(\"x2\", lb=0)\n",
    "x3 = model.addVar(\"x3\", lb=0)\n",
    "x4 = model.addVar(\"x4\", lb=0)\n",
    "\n",
    "# Set objective: min z = 3x1 - x2 - 3x3\n",
    "model.setObjective(3 * x1 - x2 - 3 * x3, sense=\"minimize\")\n",
    "\n",
    "# Add constraints\n",
    "model.addCons(x1 + 3 * x2 - x3 + 2 * x4 <= 2)\n",
    "model.addCons(2 * x1 + x2 - 4 * x3 <= 1)\n",
    "model.addCons(-4 * x2 + 2 * x3 <= 10)\n",
    "\n",
    "# Solve\n",
    "model.optimize()\n",
    "\n",
    "# Get and print results\n",
    "print(\"Optimal value:\", model.getObjVal())\n",
    "print(\"x1 =\", model.getVal(x1))\n",
    "print(\"x2 =\", model.getVal(x2))\n",
    "print(\"x3 =\", model.getVal(x3))\n",
    "print(\"x4 =\", model.getVal(x4))\n"
   ]
  },
  {
   "cell_type": "code",
   "execution_count": 6,
   "id": "fc7471ea",
   "metadata": {},
   "outputs": [
    {
     "name": "stdout",
     "output_type": "stream",
     "text": [
      "Optimal value:feasible solution found by trivial heuristic after 0.0 seconds, objective value 0.000000e+00\n",
      "presolving:\n",
      "problem infeasible or unbounded: variable <t_x3> with objective -2 can be made infinitely large\n",
      "presolving (1 rounds: 1 fast, 0 medium, 0 exhaustive):\n",
      " 0 deleted vars, 0 deleted constraints, 0 added constraints, 0 tightened bounds, 0 added holes, 0 changed sides, 0 changed coefficients\n",
      " 0 implications, 0 cliques\n",
      "transformed 3/3 original solutions to the transformed problem space\n",
      "presolving detected unboundedness\n",
      "Presolving Time: 0.00\n",
      "\n",
      "SCIP Status        : problem is solved [unbounded]\n",
      "Solving Time (sec) : 0.00\n",
      "Solving Nodes      : 0\n",
      "Primal Bound       : -1.00000000000000e+20 (3 solutions)\n",
      "Dual Bound         : -1.00000000000000e+20\n",
      "Gap                : 0.00 %\n",
      " 0.0\n",
      "x1 = 0.0\n",
      "x2 = 0.0\n",
      "x3 = 0.0\n"
     ]
    }
   ],
   "source": [
    "# Create model\n",
    "model = Model(\"LP_Problem_B\")\n",
    "\n",
    "# Define variables\n",
    "x1 = model.addVar(\"x1\", lb=0)\n",
    "x2 = model.addVar(\"x2\", lb=0)\n",
    "x3 = model.addVar(\"x3\", lb=-3)  # x3 ≥ -3\n",
    "\n",
    "# Set objective: min z = x1 - 2x3\n",
    "model.setObjective(x1 - 2 * x3, sense=\"minimize\")\n",
    "\n",
    "# Add constraints\n",
    "model.addCons(-2 * x1 + x2 <= 4)\n",
    "model.addCons(-x1 + 2 * x2 <= 7)\n",
    "\n",
    "# Solve\n",
    "model.optimize()\n",
    "\n",
    "# Get and print results\n",
    "print(\"Optimal value:\", model.getObjVal())\n",
    "print(\"x1 =\", model.getVal(x1))\n",
    "print(\"x2 =\", model.getVal(x2))\n",
    "print(\"x3 =\", model.getVal(x3))"
   ]
  },
  {
   "cell_type": "code",
   "execution_count": 5,
   "id": "a6b82186",
   "metadata": {},
   "outputs": [
    {
     "name": "stdout",
     "output_type": "stream",
     "text": [
      "Optimal value:feasible solution found by trivial heuristic after 0.0 seconds, objective value 0.000000e+00\n",
      "presolving:\n",
      "(round 1, fast)       1 del vars, 1 del conss, 0 add conss, 3 chg bounds, 0 chg sides, 0 chg coeffs, 0 upgd conss, 0 impls, 0 clqs\n",
      "(round 2, fast)       1 del vars, 1 del conss, 0 add conss, 4 chg bounds, 0 chg sides, 0 chg coeffs, 0 upgd conss, 0 impls, 0 clqs\n",
      "   (0.0s) symmetry computation started: requiring (bin +, int +, cont +), (fixed: bin -, int -, cont -)\n",
      "   (0.0s) no symmetry present (symcode time: 0.00)\n",
      "presolving (3 rounds: 3 fast, 1 medium, 1 exhaustive):\n",
      " 1 deleted vars, 1 deleted constraints, 0 added constraints, 4 tightened bounds, 0 added holes, 0 changed sides, 0 changed coefficients\n",
      " 0 implications, 0 cliques\n",
      "presolved problem has 2 variables (0 bin, 0 int, 0 impl, 2 cont) and 2 constraints\n",
      "      2 constraints of type <linear>\n",
      "Presolving Time: 0.00\n",
      "\n",
      " time | node  | left  |LP iter|LP it/n|mem/heur|mdpt |vars |cons |rows |cuts |sepa|confs|strbr|  dualbound   | primalbound  |  gap   | compl. \n",
      "t 0.0s|     1 |     0 |     0 |     - | trivial|   0 |   2 |   2 |   0 |   0 |  0 |   0 |   0 | 1.550000e+01 | 3.000000e+00 | 416.67%| unknown\n",
      "* 0.0s|     1 |     0 |     1 |     - |    LP  |   0 |   2 |   2 |   2 |   0 |  0 |   0 |   0 | 1.050000e+01 | 1.050000e+01 |   0.00%| unknown\n",
      "  0.0s|     1 |     0 |     1 |     - |   597k |   0 |  10.5\n",
      "x1 = 2.5\n",
      "x2 = 1.5\n",
      "x3 = -0.0\n",
      "  2 |   2 |   2 |   0 |  0 |   0 |   0 | 1.050000e+01 | 1.050000e+01 |   0.00%| unknown\n",
      "\n",
      "SCIP Status        : problem is solved [optimal solution found]\n",
      "Solving Time (sec) : 0.02\n",
      "Solving Nodes      : 1\n",
      "Primal Bound       : +1.05000000000000e+01 (3 solutions)\n",
      "Dual Bound         : +1.05000000000000e+01\n",
      "Gap                : 0.00 %\n"
     ]
    }
   ],
   "source": [
    "model = Model(\"LP_Problem_C\")\n",
    "\n",
    "# Define variables\n",
    "x1 = model.addVar(\"x1\", lb=0)\n",
    "x2 = model.addVar(\"x2\", lb=0)\n",
    "x3 = model.addVar(\"x3\", ub=0)  # x3 ≤ 0\n",
    "\n",
    "# Set objective: max 3x1 + 2x2 - 4x3\n",
    "model.setObjective(3 * x1 + 2 * x2 - 4 * x3, sense=\"maximize\")\n",
    "\n",
    "# Add constraints\n",
    "model.addCons(x1 + x2 - 2 * x3 <= 4)\n",
    "model.addCons(-2 * x1 + 3 * x3 >= -5)\n",
    "model.addCons(2 * x1 + x2 - 3 * x3 <= 7)\n",
    "\n",
    "# Solve\n",
    "model.optimize()\n",
    "\n",
    "# Get and print results\n",
    "print(\"Optimal value:\", model.getObjVal())\n",
    "print(\"x1 =\", model.getVal(x1))\n",
    "print(\"x2 =\", model.getVal(x2))\n",
    "print(\"x3 =\", model.getVal(x3))\n",
    "\n"
   ]
  },
  {
   "cell_type": "code",
   "execution_count": 8,
   "id": "75b5f02c",
   "metadata": {},
   "outputs": [
    {
     "name": "stdout",
     "output_type": "stream",
     "text": [
      "Optimal value: 17.0\n",
      "x1 = 1.0\n",
      "x2 = 2.0\n",
      "x3 = 0.0\n",
      "x4 = 0.0\n",
      "feasible solution found by trivial heuristic after 0.0 seconds, objective value 0.000000e+00\n",
      "presolving:\n",
      "(round 1, fast)       0 del vars, 0 del conss, 0 add conss, 7 chg bounds, 0 chg sides, 0 chg coeffs, 0 upgd conss, 0 impls, 0 clqs\n",
      "   (0.0s) symmetry computation started: requiring (bin +, int +, cont +), (fixed: bin -, int -, cont -)\n",
      "   (0.0s) no symmetry present (symcode time: 0.00)\n",
      "presolving (2 rounds: 2 fast, 1 medium, 1 exhaustive):\n",
      " 0 deleted vars, 0 deleted constraints, 0 added constraints, 7 tightened bounds, 0 added holes, 0 changed sides, 0 changed coefficients\n",
      " 0 implications, 0 cliques\n",
      "presolved problem has 4 variables (0 bin, 0 int, 0 impl, 4 cont) and 2 constraints\n",
      "      2 constraints of type <linear>\n",
      "Presolving Time: 0.00\n",
      "transformed 1/1 original solutions to the transformed problem space\n",
      "\n",
      " time | node  | left  |LP iter|LP it/n|mem/heur|mdpt |vars |cons |rows |cuts |sepa|confs|strbr|  dualbound   | primalbound  |  gap   | compl. \n",
      "* 0.0s|     1 |     0 |     4 |     - |    LP  |   0 |   4 |   2 |   2 |   0 |  0 |   0 |   0 | 1.700000e+01 | 1.700000e+01 |   0.00%| unknown\n",
      "  0.0s|     1 |     0 |     4 |     - |   602k |   0 |   4 |   2 |   2 |   0 |  0 |   0 |   0 | 1.700000e+01 | 1.700000e+01 |   0.00%| unknown\n",
      "\n",
      "SCIP Status        : problem is solved [optimal solution found]\n",
      "Solving Time (sec) : 0.00\n",
      "Solving Nodes      : 1\n",
      "Primal Bound       : +1.70000000000000e+01 (2 solutions)\n",
      "Dual Bound         : +1.70000000000000e+01\n",
      "Gap                : 0.00 %\n"
     ]
    }
   ],
   "source": [
    "model = Model(\"LP_Problem_D\")\n",
    "\n",
    "# Define variables\n",
    "x1 = model.addVar(\"x1\", lb=0)\n",
    "x2 = model.addVar(\"x2\", lb=0)\n",
    "x3 = model.addVar(\"x3\", lb=0)\n",
    "x4 = model.addVar(\"x4\", lb=0)\n",
    "\n",
    "# Set objective: max 5x1 + 6x2 + 9x3 + 8x4\n",
    "model.setObjective(5 * x1 + 6 * x2 + 9 * x3 + 8 * x4, sense=\"maximize\")\n",
    "\n",
    "# Add constraints\n",
    "model.addCons(x1 + 2 * x2 + 3 * x3 + x4 <= 5)\n",
    "model.addCons(x1 + x2 + 2 * x3 + 3 * x4 <= 3)\n",
    "\n",
    "# Solve\n",
    "model.optimize()\n",
    "\n",
    "# Get and print results\n",
    "print(\"Optimal value:\", model.getObjVal())\n",
    "print(\"x1 =\", model.getVal(x1))\n",
    "print(\"x2 =\", model.getVal(x2))\n",
    "print(\"x3 =\", model.getVal(x3))\n",
    "print(\"x4 =\", model.getVal(x4))"
   ]
  },
  {
   "cell_type": "code",
   "execution_count": null,
   "id": "b7144754",
   "metadata": {},
   "outputs": [],
   "source": []
  }
 ],
 "metadata": {
  "kernelspec": {
   "display_name": "investigacionoperativa-py3.12",
   "language": "python",
   "name": "python3"
  },
  "language_info": {
   "codemirror_mode": {
    "name": "ipython",
    "version": 3
   },
   "file_extension": ".py",
   "mimetype": "text/x-python",
   "name": "python",
   "nbconvert_exporter": "python",
   "pygments_lexer": "ipython3",
   "version": "3.12.10"
  }
 },
 "nbformat": 4,
 "nbformat_minor": 5
}
