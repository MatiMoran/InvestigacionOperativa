{
 "cells": [
  {
   "cell_type": "code",
   "execution_count": 1,
   "id": "18c9a4a6",
   "metadata": {},
   "outputs": [],
   "source": [
    "from pyscipopt import Model\n",
    "import numpy as np"
   ]
  },
  {
   "cell_type": "markdown",
   "id": "818c9d7f",
   "metadata": {},
   "source": [
    "# Practica 3"
   ]
  },
  {
   "cell_type": "markdown",
   "id": "15048cf9",
   "metadata": {},
   "source": [
    "## Ejercicio 4"
   ]
  },
  {
   "cell_type": "code",
   "execution_count": 2,
   "id": "21cc72ca",
   "metadata": {},
   "outputs": [
    {
     "name": "stdout",
     "output_type": "stream",
     "text": [
      "Optimal value: 0.0625\n",
      "x1 = 0.0\n",
      "x2 = 0.0\n",
      "x3 = 0.0\n",
      "x4 = 0.03125\n",
      "x5 = 0.0\n",
      "x6 = 0.0\n",
      "x7 = 0.0\n",
      "feasible solution found by trivial heuristic after 0.0 seconds, objective value 1.800000e+06\n",
      "presolving:\n",
      "(round 1, fast)       6 del vars, 0 del conss, 0 add conss, 7 chg bounds, 0 chg sides, 0 chg coeffs, 0 upgd conss, 0 impls, 0 clqs\n",
      "(round 2, fast)       6 del vars, 1 del conss, 0 add conss, 8 chg bounds, 0 chg sides, 0 chg coeffs, 0 upgd conss, 0 impls, 0 clqs\n",
      "presolving (3 rounds: 3 fast, 1 medium, 1 exhaustive):\n",
      " 7 deleted vars, 1 deleted constraints, 0 added constraints, 8 tightened bounds, 0 added holes, 0 changed sides, 0 changed coefficients\n",
      " 0 implications, 0 cliques\n",
      "transformed 1/2 original solutions to the transformed problem space\n",
      "Presolving Time: 0.00\n",
      "\n",
      "SCIP Status        : problem is solved [optimal solution found]\n",
      "Solving Time (sec) : 0.02\n",
      "Solving Nodes      : 0\n",
      "Primal Bound       : +6.25000000000000e-02 (2 solutions)\n",
      "Dual Bound         : +6.25000000000000e-02\n",
      "Gap                : 0.00 %\n"
     ]
    }
   ],
   "source": [
    "model = Model(\"LP_4\")\n",
    "\n",
    "# Define variables\n",
    "x1 = model.addVar(\"x1\", lb=0)\n",
    "x2 = model.addVar(\"x2\", lb=0)\n",
    "x3 = model.addVar(\"x3\", lb=0)\n",
    "x4 = model.addVar(\"x4\", lb=0)\n",
    "x5 = model.addVar(\"x5\", lb=0)\n",
    "x6 = model.addVar(\"x6\", lb=0)\n",
    "x7 = model.addVar(\"x7\", lb=0)\n",
    "\n",
    "# Set objective: min z = 3x1 - x2 - 3x3\n",
    "model.setObjective(x1 + x2 + 3 * x3 + 2*x4 + 8*x5 + 2*x6 + x7, sense=\"minimize\")\n",
    "\n",
    "# Add constraints\n",
    "model.addCons(2*x1 + 2 * x2 + x3 + 32 * x4 + 3*x5 + 20*x6 + 11*x7 >= 1)\n",
    "\n",
    "# Solve\n",
    "model.optimize()\n",
    "\n",
    "# Get and print results\n",
    "print(\"Optimal value:\", model.getObjVal())\n",
    "print(\"x1 =\", model.getVal(x1))\n",
    "print(\"x2 =\", model.getVal(x2))\n",
    "print(\"x3 =\", model.getVal(x3))\n",
    "print(\"x4 =\", model.getVal(x4))\n",
    "print(\"x5 =\", model.getVal(x5))\n",
    "print(\"x6 =\", model.getVal(x6))\n",
    "print(\"x7 =\", model.getVal(x7))\n"
   ]
  },
  {
   "cell_type": "markdown",
   "id": "3608836e",
   "metadata": {},
   "source": [
    "## Ejercicio 5"
   ]
  },
  {
   "cell_type": "code",
   "execution_count": 3,
   "id": "ca81fd6a",
   "metadata": {},
   "outputs": [
    {
     "name": "stdout",
     "output_type": "stream",
     "text": [
      "feasible solution found by trivial heuristic after 0.0 seconds, objective value 0.000000e+00\n",
      "presolving:\n",
      "Optimal value: -179.0\n",
      "x1 = 0.0\n",
      "x2 = 0.0\n",
      "x3 = 15.5\n",
      "x4 = 7.0\n",
      "(round 1, fast)       0 del vars, 0 del conss, 0 add conss, 4 chg bounds, 0 chg sides, 0 chg coeffs, 0 upgd conss, 0 impls, 0 clqs\n",
      "   (0.0s) symmetry computation started: requiring (bin +, int +, cont +), (fixed: bin -, int -, cont -)\n",
      "   (0.0s) no symmetry present (symcode time: 0.00)\n",
      "presolving (2 rounds: 2 fast, 1 medium, 1 exhaustive):\n",
      " 0 deleted vars, 0 deleted constraints, 0 added constraints, 4 tightened bounds, 0 added holes, 0 changed sides, 0 changed coefficients\n",
      " 0 implications, 0 cliques\n",
      "presolved problem has 4 variables (0 bin, 0 int, 0 impl, 4 cont) and 2 constraints\n",
      "      2 constraints of type <linear>\n",
      "Presolving Time: 0.00\n",
      "transformed 1/1 original solutions to the transformed problem space\n",
      "\n",
      " time | node  | left  |LP iter|LP it/n|mem/heur|mdpt |vars |cons |rows |cuts |sepa|confs|strbr|  dualbound   | primalbound  |  gap   | compl. \n",
      "* 0.0s|     1 |     0 |     2 |     - |    LP  |   0 |   4 |   2 |   2 |   0 |  0 |   0 |   0 |-1.790000e+02 |-1.790000e+02 |   0.00%| unknown\n",
      "  0.0s|     1 |     0 |     2 |     - |   602k |   0 |   4 |   2 |   2 |   0 |  0 |   0 |   0 |-1.790000e+02 |-1.790000e+02 |   0.00%| unknown\n",
      "\n",
      "SCIP Status        : problem is solved [optimal solution found]\n",
      "Solving Time (sec) : 0.01\n",
      "Solving Nodes      : 1\n",
      "Primal Bound       : -1.79000000000000e+02 (3 solutions)\n",
      "Dual Bound         : -1.79000000000000e+02\n",
      "Gap                : 0.00 %\n"
     ]
    }
   ],
   "source": [
    "model = Model(\"LP_5\")\n",
    "\n",
    "# Define variables\n",
    "x1 = model.addVar(\"x1\", lb=0)\n",
    "x2 = model.addVar(\"x2\", lb=0)\n",
    "x3 = model.addVar(\"x3\", lb=0)\n",
    "x4 = model.addVar(\"x4\", lb=0)\n",
    "\n",
    "# Set objective: min z = 3x1 - x2 - 3x3\n",
    "model.setObjective(-5*x1 -7* x2 - 12 * x3 + x4, sense=\"minimize\")\n",
    "\n",
    "# Add constraints\n",
    "model.addCons(2*x1 + 3 * x2 + 2*x3 + x4 <= 38)\n",
    "model.addCons(3*x1 + 2 * x2 + 4*x3 - x4 <= 55)\n",
    "\n",
    "# Solve\n",
    "model.optimize()\n",
    "\n",
    "# Get and print results\n",
    "print(\"Optimal value:\", model.getObjVal())\n",
    "print(\"x1 =\", model.getVal(x1))\n",
    "print(\"x2 =\", model.getVal(x2))\n",
    "print(\"x3 =\", model.getVal(x3))\n",
    "print(\"x4 =\", model.getVal(x4))\n"
   ]
  },
  {
   "cell_type": "code",
   "execution_count": 4,
   "id": "59d7496e",
   "metadata": {},
   "outputs": [
    {
     "name": "stdout",
     "output_type": "stream",
     "text": [
      "Optimal value:feasible solution found by trivial heuristic after 0.0 seconds, objective value -9.300000e+06\n",
      "presolving:\n",
      "(round 1, fast)       0 del vars, 0 del conss, 0 add conss, 4 chg bounds, 0 chg sides, 0 chg coeffs, 0 upgd conss, 0 impls, 0 clqs\n",
      "(round 2, fast)       0 del vars, 0 del conss, 0 add conss, 5 chg bounds, 0 chg sides, 0 chg coeffs, 0 upgd conss, 0 impls, 0 clqs\n",
      "(round 3, exhaustive) 0 del vars, 1 del conss, 0 add conss, 5 chg bounds, 1 chg sides, 0 chg coeffs, 0 upgd conss, 0 impls, 0 clqs\n",
      "   (0.0s) symmetry computation started: requiring (bin +, int +, cont +), (fixed: bin -, int -, cont -)\n",
      "   (0.0s) no symmetry present (symcode time: 0.00)\n",
      "presolving (4 rounds: 4 fast, 2 medium, 2 exhaustive):\n",
      " 0 deleted vars, 1 deleted constraints, 0 added constraints, 5 tightened bounds, 0 added holes, 1 changed sides, 0 changed coefficients\n",
      " 0 implications, 0 cliques\n",
      "presolved problem has 2 variables (0 bin, 0 int, 0 impl, 2 cont) and 3 constraints\n",
      "      3 constraints of type <linear>\n",
      "Presolving Time: 0.00\n",
      "\n",
      " time | node  | left  |LP iter|LP it/n|mem/heur|mdpt |vars |cons |rows |cuts |sepa|confs|strbr|  dualbound   | primalbound  |  gap   | compl. \n",
      "t 0.0s|     1 |     0 |     0 |     - | trivial|   0 |   2 |   3 |   0 |   0 |  0 |   0 |   0 | 0.000000e+00 |-4.205000e+02 |    Inf | unknown\n",
      "* 0.0s|     1 |     0 |     2 |     - |    LP  |   0 |   2 |   3 |   3 |   0 |  0 |   0 |   0 |-1.790000e+02 |-1.790000e+02 |   0.00%| unknown\n",
      "  0.0s|     1 |     0 |     2 |     - |   596k |   0 |   2 |   3 |   3 |   0 |  0 |   0 |   0 |-1.790000e+02 |-1.790000e+02 |   0.00%| unknown\n",
      "\n",
      "SCIP Status        : problem is solved [optimal solution found]\n",
      "Solving Time (sec) : 0.00\n",
      "Solving Nodes      : 1\n",
      "Primal Bound       : -1.79000000000000e+02 (3 solutions)\n",
      "Dual Bound         : -1.79000000000000e+02\n",
      "Gap                : 0.00 %\n",
      " -179.0\n",
      "y1 = 1.3333333333333333\n",
      "y2 = 2.3333333333333335\n"
     ]
    }
   ],
   "source": [
    "model = Model(\"LP_5_dual\")\n",
    "\n",
    "# Define variables\n",
    "y1 = model.addVar(\"y1\", lb=0)\n",
    "y2 = model.addVar(\"y2\", lb=0)\n",
    "\n",
    "# Set objective: min z = 3y1 - y2 - 3x3\n",
    "model.setObjective(-38*y1 -55* y2, sense=\"maximize\")\n",
    "\n",
    "# Add constraints\n",
    "model.addCons(-2*y1 - 3 * y2 <= -5)\n",
    "model.addCons(-3*y1 - 2 * y2 <= -7)\n",
    "model.addCons(-2*y1 - 4 * y2 <= -12)\n",
    "model.addCons(-1*y1 + 1 * y2 <= 1)\n",
    "\n",
    "# Solve\n",
    "model.optimize()\n",
    "\n",
    "# Get and print results\n",
    "print(\"Optimal value:\", model.getObjVal())\n",
    "print(\"y1 =\", model.getVal(y1))\n",
    "print(\"y2 =\", model.getVal(y2))\n"
   ]
  },
  {
   "cell_type": "code",
   "execution_count": null,
   "id": "06764ef2",
   "metadata": {},
   "outputs": [],
   "source": []
  }
 ],
 "metadata": {
  "kernelspec": {
   "display_name": "investigacionoperativa-py3.12",
   "language": "python",
   "name": "python3"
  },
  "language_info": {
   "codemirror_mode": {
    "name": "ipython",
    "version": 3
   },
   "file_extension": ".py",
   "mimetype": "text/x-python",
   "name": "python",
   "nbconvert_exporter": "python",
   "pygments_lexer": "ipython3",
   "version": "3.12.10"
  }
 },
 "nbformat": 4,
 "nbformat_minor": 5
}
