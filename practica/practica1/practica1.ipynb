{
 "cells": [
  {
   "cell_type": "code",
   "execution_count": null,
   "id": "18c9a4a6",
   "metadata": {
    "vscode": {
     "languageId": "plaintext"
    }
   },
   "outputs": [],
   "source": [
    "# Importamos la clase Model de pyscipopt\n",
    "from pyscipopt import Model\n",
    "# Importamos numpy\n",
    "import numpy as np"
   ]
  },
  {
   "cell_type": "markdown",
   "id": "818c9d7f",
   "metadata": {},
   "source": [
    "# Practica 1"
   ]
  },
  {
   "cell_type": "markdown",
   "id": "15048cf9",
   "metadata": {},
   "source": [
    "## Ejercicio 1"
   ]
  },
  {
   "cell_type": "markdown",
   "id": "e0d53ed4",
   "metadata": {},
   "source": [
    "Variables\n",
    "- A_i - Cantidad de porciones de 30g del alimento i \n",
    "\n",
    "Datos\n",
    "- V_ij - Cantidad de vitamina j en una porcion de 30 gramos del alimento i\n",
    "- C_i - Costo de 30 gramos del alimento i\n",
    "- RDM_j - racion diaria minima de vitamina j\n",
    "\n",
    "con i perteneciente a [1, 2, 3]\n",
    "\n",
    "con j perteneciente a [A, C, D]\n",
    "\n",
    "FO: \n",
    "- MIN(COSTO = SUM(A_i * C_I))\n",
    "s.a: \n",
    "- SUM_i(A_i) >= 225/30  \n",
    "- SUM_i(A_I * V_ij) >= RDM_j for all j"
   ]
  },
  {
   "cell_type": "code",
   "execution_count": null,
   "id": "080ac042",
   "metadata": {
    "vscode": {
     "languageId": "plaintext"
    }
   },
   "outputs": [],
   "source": [
    "print(\"A\")"
   ]
  }
 ],
 "metadata": {
  "language_info": {
   "name": "python"
  }
 },
 "nbformat": 4,
 "nbformat_minor": 5
}
